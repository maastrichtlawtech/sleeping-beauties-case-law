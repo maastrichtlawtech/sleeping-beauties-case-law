{
 "cells": [
  {
   "cell_type": "markdown",
   "metadata": {},
   "source": [
    "# Judgements Citations"
   ]
  },
  {
   "cell_type": "code",
   "execution_count": 1,
   "metadata": {},
   "outputs": [],
   "source": [
    "#!pip install networkx"
   ]
  },
  {
   "cell_type": "code",
   "execution_count": 2,
   "metadata": {},
   "outputs": [],
   "source": [
    "import networkx as nx\n",
    "import pandas as pd\n",
    "import matplotlib.pyplot as plt"
   ]
  },
  {
   "cell_type": "code",
   "execution_count": 106,
   "metadata": {},
   "outputs": [],
   "source": [
    "df = pd.read_csv('../data/judgements/judgement_citations.csv')"
   ]
  },
  {
   "cell_type": "code",
   "execution_count": 107,
   "metadata": {},
   "outputs": [
    {
     "data": {
      "text/html": [
       "<div>\n",
       "<style scoped>\n",
       "    .dataframe tbody tr th:only-of-type {\n",
       "        vertical-align: middle;\n",
       "    }\n",
       "\n",
       "    .dataframe tbody tr th {\n",
       "        vertical-align: top;\n",
       "    }\n",
       "\n",
       "    .dataframe thead th {\n",
       "        text-align: right;\n",
       "    }\n",
       "</style>\n",
       "<table border=\"1\" class=\"dataframe\">\n",
       "  <thead>\n",
       "    <tr style=\"text-align: right;\">\n",
       "      <th></th>\n",
       "      <th>source</th>\n",
       "      <th>target</th>\n",
       "      <th>paragraph</th>\n",
       "    </tr>\n",
       "  </thead>\n",
       "  <tbody>\n",
       "    <tr>\n",
       "      <th>0</th>\n",
       "      <td>62016CJ0267</td>\n",
       "      <td>61987CJ0215</td>\n",
       "      <td>N22</td>\n",
       "    </tr>\n",
       "    <tr>\n",
       "      <th>1</th>\n",
       "      <td>62016CJ0267</td>\n",
       "      <td>61987CJ0215</td>\n",
       "      <td>N67</td>\n",
       "    </tr>\n",
       "    <tr>\n",
       "      <th>2</th>\n",
       "      <td>62016CJ0267</td>\n",
       "      <td>62001CJ0030</td>\n",
       "      <td>N63</td>\n",
       "    </tr>\n",
       "    <tr>\n",
       "      <th>3</th>\n",
       "      <td>62016CJ0267</td>\n",
       "      <td>62001CJ0030</td>\n",
       "      <td>N34</td>\n",
       "    </tr>\n",
       "    <tr>\n",
       "      <th>4</th>\n",
       "      <td>62016CJ0267</td>\n",
       "      <td>62001CJ0030</td>\n",
       "      <td>N53</td>\n",
       "    </tr>\n",
       "  </tbody>\n",
       "</table>\n",
       "</div>"
      ],
      "text/plain": [
       "        source       target paragraph\n",
       "0  62016CJ0267  61987CJ0215       N22\n",
       "1  62016CJ0267  61987CJ0215       N67\n",
       "2  62016CJ0267  62001CJ0030       N63\n",
       "3  62016CJ0267  62001CJ0030       N34\n",
       "4  62016CJ0267  62001CJ0030       N53"
      ]
     },
     "execution_count": 107,
     "metadata": {},
     "output_type": "execute_result"
    }
   ],
   "source": [
    "df.head()"
   ]
  },
  {
   "cell_type": "code",
   "execution_count": 108,
   "metadata": {},
   "outputs": [
    {
     "data": {
      "text/plain": [
       "194933"
      ]
     },
     "execution_count": 108,
     "metadata": {},
     "output_type": "execute_result"
    }
   ],
   "source": [
    "len(df)"
   ]
  },
  {
   "cell_type": "markdown",
   "metadata": {},
   "source": [
    "We create different concatenations in order to retrive information aggregating the nodes"
   ]
  },
  {
   "cell_type": "code",
   "execution_count": 113,
   "metadata": {},
   "outputs": [],
   "source": [
    "df['relation'] = df['source']+'-'+df['target']\n",
    "df['unique'] = df['source']+'-'+df['target']+'-'+df['paragraph']\n",
    "df['citation'] = df['target']+'-'+df['paragraph']"
   ]
  },
  {
   "cell_type": "markdown",
   "metadata": {},
   "source": [
    "#### Unique paragraph citations  (target-paragraph)"
   ]
  },
  {
   "cell_type": "code",
   "execution_count": 78,
   "metadata": {},
   "outputs": [],
   "source": [
    "df_citations = df.groupby('citation').agg('count')['source'].reset_index()"
   ]
  },
  {
   "cell_type": "code",
   "execution_count": 79,
   "metadata": {},
   "outputs": [
    {
     "data": {
      "text/html": [
       "<div>\n",
       "<style scoped>\n",
       "    .dataframe tbody tr th:only-of-type {\n",
       "        vertical-align: middle;\n",
       "    }\n",
       "\n",
       "    .dataframe tbody tr th {\n",
       "        vertical-align: top;\n",
       "    }\n",
       "\n",
       "    .dataframe thead th {\n",
       "        text-align: right;\n",
       "    }\n",
       "</style>\n",
       "<table border=\"1\" class=\"dataframe\">\n",
       "  <thead>\n",
       "    <tr style=\"text-align: right;\">\n",
       "      <th></th>\n",
       "      <th>citation</th>\n",
       "      <th>source</th>\n",
       "    </tr>\n",
       "  </thead>\n",
       "  <tbody>\n",
       "    <tr>\n",
       "      <th>2071</th>\n",
       "      <td>61974CJ0008-N5</td>\n",
       "      <td>47</td>\n",
       "    </tr>\n",
       "    <tr>\n",
       "      <th>17313</th>\n",
       "      <td>61989CJ0106-N08</td>\n",
       "      <td>36</td>\n",
       "    </tr>\n",
       "    <tr>\n",
       "      <th>21698</th>\n",
       "      <td>61991CJ0267-N16</td>\n",
       "      <td>35</td>\n",
       "    </tr>\n",
       "    <tr>\n",
       "      <th>1069</th>\n",
       "      <td>61970CJ0022-N42</td>\n",
       "      <td>34</td>\n",
       "    </tr>\n",
       "    <tr>\n",
       "      <th>13558</th>\n",
       "      <td>61986CJ0267-N16</td>\n",
       "      <td>33</td>\n",
       "    </tr>\n",
       "    <tr>\n",
       "      <th>22410</th>\n",
       "      <td>61992CJ0091-N26</td>\n",
       "      <td>30</td>\n",
       "    </tr>\n",
       "    <tr>\n",
       "      <th>10521</th>\n",
       "      <td>61984CJ0152-N48</td>\n",
       "      <td>25</td>\n",
       "    </tr>\n",
       "    <tr>\n",
       "      <th>47866</th>\n",
       "      <td>62001CJ0491-N40</td>\n",
       "      <td>24</td>\n",
       "    </tr>\n",
       "    <tr>\n",
       "      <th>47864</th>\n",
       "      <td>62001CJ0491-N38</td>\n",
       "      <td>24</td>\n",
       "    </tr>\n",
       "    <tr>\n",
       "      <th>18766</th>\n",
       "      <td>61990CJ0006-N35</td>\n",
       "      <td>24</td>\n",
       "    </tr>\n",
       "  </tbody>\n",
       "</table>\n",
       "</div>"
      ],
      "text/plain": [
       "              citation  source\n",
       "2071    61974CJ0008-N5      47\n",
       "17313  61989CJ0106-N08      36\n",
       "21698  61991CJ0267-N16      35\n",
       "1069   61970CJ0022-N42      34\n",
       "13558  61986CJ0267-N16      33\n",
       "22410  61992CJ0091-N26      30\n",
       "10521  61984CJ0152-N48      25\n",
       "47866  62001CJ0491-N40      24\n",
       "47864  62001CJ0491-N38      24\n",
       "18766  61990CJ0006-N35      24"
      ]
     },
     "execution_count": 79,
     "metadata": {},
     "output_type": "execute_result"
    }
   ],
   "source": [
    "df_citations.sort_values(['source'], ascending=False).head(10)"
   ]
  },
  {
   "cell_type": "markdown",
   "metadata": {},
   "source": [
    "The most cited [paragraph](https://eur-lex.europa.eu/legal-content/EN/TXT/?qid=1528814213715&uri=CELEX:61974CJ0008)"
   ]
  },
  {
   "cell_type": "markdown",
   "metadata": {},
   "source": [
    "#### Unique cited cases (target -> source)"
   ]
  },
  {
   "cell_type": "code",
   "execution_count": 116,
   "metadata": {},
   "outputs": [],
   "source": [
    "df_ = df.groupby(['target','source']).agg('count')['citation'].reset_index()\n",
    "df_target = df_.groupby('target')['citation'].agg(['count','sum']).reset_index()\n",
    "df_target.columns = ['target','sources','target_paragraphs']"
   ]
  },
  {
   "cell_type": "code",
   "execution_count": 120,
   "metadata": {},
   "outputs": [
    {
     "data": {
      "text/html": [
       "<div>\n",
       "<style scoped>\n",
       "    .dataframe tbody tr th:only-of-type {\n",
       "        vertical-align: middle;\n",
       "    }\n",
       "\n",
       "    .dataframe tbody tr th {\n",
       "        vertical-align: top;\n",
       "    }\n",
       "\n",
       "    .dataframe thead th {\n",
       "        text-align: right;\n",
       "    }\n",
       "</style>\n",
       "<table border=\"1\" class=\"dataframe\">\n",
       "  <thead>\n",
       "    <tr style=\"text-align: right;\">\n",
       "      <th></th>\n",
       "      <th>target</th>\n",
       "      <th>sources</th>\n",
       "      <th>target_paragraphs</th>\n",
       "    </tr>\n",
       "  </thead>\n",
       "  <tbody>\n",
       "    <tr>\n",
       "      <th>3066</th>\n",
       "      <td>61993CJ0415</td>\n",
       "      <td>146</td>\n",
       "      <td>500</td>\n",
       "    </tr>\n",
       "    <tr>\n",
       "      <th>397</th>\n",
       "      <td>61974CJ0008</td>\n",
       "      <td>128</td>\n",
       "      <td>341</td>\n",
       "    </tr>\n",
       "    <tr>\n",
       "      <th>5198</th>\n",
       "      <td>62002CJ0189</td>\n",
       "      <td>113</td>\n",
       "      <td>338</td>\n",
       "    </tr>\n",
       "    <tr>\n",
       "      <th>4179</th>\n",
       "      <td>61998CJ0379</td>\n",
       "      <td>111</td>\n",
       "      <td>279</td>\n",
       "    </tr>\n",
       "    <tr>\n",
       "      <th>4654</th>\n",
       "      <td>62000CJ0204</td>\n",
       "      <td>80</td>\n",
       "      <td>177</td>\n",
       "    </tr>\n",
       "    <tr>\n",
       "      <th>722</th>\n",
       "      <td>61978CJ0120</td>\n",
       "      <td>74</td>\n",
       "      <td>175</td>\n",
       "    </tr>\n",
       "    <tr>\n",
       "      <th>3014</th>\n",
       "      <td>61993CJ0279</td>\n",
       "      <td>73</td>\n",
       "      <td>276</td>\n",
       "    </tr>\n",
       "    <tr>\n",
       "      <th>2851</th>\n",
       "      <td>61992CJ0136</td>\n",
       "      <td>72</td>\n",
       "      <td>123</td>\n",
       "    </tr>\n",
       "    <tr>\n",
       "      <th>5442</th>\n",
       "      <td>62003CJ0168</td>\n",
       "      <td>70</td>\n",
       "      <td>107</td>\n",
       "    </tr>\n",
       "    <tr>\n",
       "      <th>5950</th>\n",
       "      <td>62005CJ0023</td>\n",
       "      <td>70</td>\n",
       "      <td>94</td>\n",
       "    </tr>\n",
       "  </tbody>\n",
       "</table>\n",
       "</div>"
      ],
      "text/plain": [
       "           target  sources  target_paragraphs\n",
       "3066  61993CJ0415      146                500\n",
       "397   61974CJ0008      128                341\n",
       "5198  62002CJ0189      113                338\n",
       "4179  61998CJ0379      111                279\n",
       "4654  62000CJ0204       80                177\n",
       "722   61978CJ0120       74                175\n",
       "3014  61993CJ0279       73                276\n",
       "2851  61992CJ0136       72                123\n",
       "5442  62003CJ0168       70                107\n",
       "5950  62005CJ0023       70                 94"
      ]
     },
     "execution_count": 120,
     "metadata": {},
     "output_type": "execute_result"
    }
   ],
   "source": [
    "df_target.sort_values('sources',ascending=False).head(10)"
   ]
  },
  {
   "cell_type": "markdown",
   "metadata": {},
   "source": [
    "The most cited [case](https://eur-lex.europa.eu/legal-content/EN/TXT/?qid=1528816320947&uri=CELEX:61993CJ0415)"
   ]
  },
  {
   "cell_type": "markdown",
   "metadata": {},
   "source": [
    "#### Unique relations (source -> target)"
   ]
  },
  {
   "cell_type": "code",
   "execution_count": 122,
   "metadata": {},
   "outputs": [],
   "source": [
    "#table on relation level\n",
    "df_relations = df.groupby(['source','relation']).agg('count')['paragraph'].reset_index()"
   ]
  },
  {
   "cell_type": "code",
   "execution_count": 121,
   "metadata": {},
   "outputs": [],
   "source": [
    "#it is necessary to revise the methodology since it's poossible to check the number of paragrphs in eu-lex, and may not match ith the count method\n",
    "#df_relations.sort_values(['paragraph'], ascending=False).head(10)"
   ]
  },
  {
   "cell_type": "code",
   "execution_count": 128,
   "metadata": {},
   "outputs": [],
   "source": [
    "df_source = df_relations.groupby('source')['paragraph'].agg(['count','sum']).reset_index() \n",
    "df_source.columns = ['source','targets','source_paragraphs']"
   ]
  },
  {
   "cell_type": "code",
   "execution_count": 131,
   "metadata": {},
   "outputs": [
    {
     "data": {
      "text/html": [
       "<div>\n",
       "<style scoped>\n",
       "    .dataframe tbody tr th:only-of-type {\n",
       "        vertical-align: middle;\n",
       "    }\n",
       "\n",
       "    .dataframe tbody tr th {\n",
       "        vertical-align: top;\n",
       "    }\n",
       "\n",
       "    .dataframe thead th {\n",
       "        text-align: right;\n",
       "    }\n",
       "</style>\n",
       "<table border=\"1\" class=\"dataframe\">\n",
       "  <thead>\n",
       "    <tr style=\"text-align: right;\">\n",
       "      <th></th>\n",
       "      <th>source</th>\n",
       "      <th>targets</th>\n",
       "      <th>source_paragraphs</th>\n",
       "    </tr>\n",
       "  </thead>\n",
       "  <tbody>\n",
       "    <tr>\n",
       "      <th>6879</th>\n",
       "      <td>62010CJ0539</td>\n",
       "      <td>55</td>\n",
       "      <td>222</td>\n",
       "    </tr>\n",
       "    <tr>\n",
       "      <th>7589</th>\n",
       "      <td>62012CJ0382</td>\n",
       "      <td>50</td>\n",
       "      <td>140</td>\n",
       "    </tr>\n",
       "    <tr>\n",
       "      <th>6099</th>\n",
       "      <td>62008CJ0384</td>\n",
       "      <td>49</td>\n",
       "      <td>59</td>\n",
       "    </tr>\n",
       "    <tr>\n",
       "      <th>5147</th>\n",
       "      <td>62005CJ0341</td>\n",
       "      <td>49</td>\n",
       "      <td>240</td>\n",
       "    </tr>\n",
       "    <tr>\n",
       "      <th>8558</th>\n",
       "      <td>62015CJ0072</td>\n",
       "      <td>48</td>\n",
       "      <td>260</td>\n",
       "    </tr>\n",
       "    <tr>\n",
       "      <th>6037</th>\n",
       "      <td>62008CJ0280</td>\n",
       "      <td>44</td>\n",
       "      <td>66</td>\n",
       "    </tr>\n",
       "    <tr>\n",
       "      <th>6812</th>\n",
       "      <td>62010CJ0416</td>\n",
       "      <td>44</td>\n",
       "      <td>100</td>\n",
       "    </tr>\n",
       "    <tr>\n",
       "      <th>5463</th>\n",
       "      <td>62006CJ0413</td>\n",
       "      <td>44</td>\n",
       "      <td>61</td>\n",
       "    </tr>\n",
       "    <tr>\n",
       "      <th>5374</th>\n",
       "      <td>62006CJ0268</td>\n",
       "      <td>44</td>\n",
       "      <td>83</td>\n",
       "    </tr>\n",
       "    <tr>\n",
       "      <th>5642</th>\n",
       "      <td>62007CJ0208</td>\n",
       "      <td>42</td>\n",
       "      <td>144</td>\n",
       "    </tr>\n",
       "  </tbody>\n",
       "</table>\n",
       "</div>"
      ],
      "text/plain": [
       "           source  targets  source_paragraphs\n",
       "6879  62010CJ0539       55                222\n",
       "7589  62012CJ0382       50                140\n",
       "6099  62008CJ0384       49                 59\n",
       "5147  62005CJ0341       49                240\n",
       "8558  62015CJ0072       48                260\n",
       "6037  62008CJ0280       44                 66\n",
       "6812  62010CJ0416       44                100\n",
       "5463  62006CJ0413       44                 61\n",
       "5374  62006CJ0268       44                 83\n",
       "5642  62007CJ0208       42                144"
      ]
     },
     "execution_count": 131,
     "metadata": {},
     "output_type": "execute_result"
    }
   ],
   "source": [
    "df_source.sort_values(['targets'], ascending=False).head(10)"
   ]
  },
  {
   "cell_type": "markdown",
   "metadata": {},
   "source": [
    "The case that cites the [most](https://eur-lex.europa.eu/legal-content/EN/TXT/?qid=1528817250200&uri=CELEX:62010CJ0539)"
   ]
  },
  {
   "cell_type": "markdown",
   "metadata": {},
   "source": [
    "#### Judgements Metadata"
   ]
  },
  {
   "cell_type": "code",
   "execution_count": 153,
   "metadata": {},
   "outputs": [],
   "source": [
    "metadata = pd.read_csv('../data/judgements/judgement_metadata_unique.csv')"
   ]
  },
  {
   "cell_type": "code",
   "execution_count": 154,
   "metadata": {},
   "outputs": [
    {
     "data": {
      "text/html": [
       "<div>\n",
       "<style scoped>\n",
       "    .dataframe tbody tr th:only-of-type {\n",
       "        vertical-align: middle;\n",
       "    }\n",
       "\n",
       "    .dataframe tbody tr th {\n",
       "        vertical-align: top;\n",
       "    }\n",
       "\n",
       "    .dataframe thead th {\n",
       "        text-align: right;\n",
       "    }\n",
       "</style>\n",
       "<table border=\"1\" class=\"dataframe\">\n",
       "  <thead>\n",
       "    <tr style=\"text-align: right;\">\n",
       "      <th></th>\n",
       "      <th>source</th>\n",
       "      <th>ruling_title</th>\n",
       "      <th>chamber</th>\n",
       "      <th>ruling_name</th>\n",
       "      <th>ruling_type</th>\n",
       "      <th>ruling_content</th>\n",
       "      <th>case_label</th>\n",
       "      <th>ecli</th>\n",
       "      <th>lodge_date</th>\n",
       "      <th>document_date</th>\n",
       "      <th>country</th>\n",
       "      <th>judge</th>\n",
       "      <th>advocate</th>\n",
       "    </tr>\n",
       "  </thead>\n",
       "  <tbody>\n",
       "    <tr>\n",
       "      <th>0</th>\n",
       "      <td>61992CJ0379</td>\n",
       "      <td>Judgment of the Court of 14 July 1994</td>\n",
       "      <td>(blank)</td>\n",
       "      <td>Criminal proceedings against Matteo Peralta</td>\n",
       "      <td>Reference for a preliminary ruling: Pretura ...</td>\n",
       "      <td>Articles 3 (f); 7; 30; 48; 52; 59; 62; 84 an...</td>\n",
       "      <td>Case C-379/92</td>\n",
       "      <td>ECLI identifier: ECLI:EU:C:1994:296</td>\n",
       "      <td>19/10/1992</td>\n",
       "      <td>14/07/1994</td>\n",
       "      <td>Italy</td>\n",
       "      <td>Grévisse</td>\n",
       "      <td>Lenz</td>\n",
       "    </tr>\n",
       "    <tr>\n",
       "      <th>1</th>\n",
       "      <td>61978CJ0091</td>\n",
       "      <td>Judgment of the Court of 13 March 1979</td>\n",
       "      <td>(blank)</td>\n",
       "      <td>Hansen GmbH &amp; Co</td>\n",
       "      <td>Check EUR-LEX webpage</td>\n",
       "      <td>Check EUR-LEX webpage</td>\n",
       "      <td>Case 91/78</td>\n",
       "      <td>ECLI identifier: ECLI:EU:C:1979:65</td>\n",
       "      <td>12/04/1978</td>\n",
       "      <td>13/03/1979</td>\n",
       "      <td>Germany</td>\n",
       "      <td>Pescatore</td>\n",
       "      <td>Capotorti</td>\n",
       "    </tr>\n",
       "    <tr>\n",
       "      <th>2</th>\n",
       "      <td>61981CJ0017</td>\n",
       "      <td>Judgment of the Court (First Chamber) of 29 Ap...</td>\n",
       "      <td>First Chamber</td>\n",
       "      <td>Pabst &amp; Richarz KG v Hauptzollamt Oldenburg</td>\n",
       "      <td>Reference for a preliminary ruling: Finanzge...</td>\n",
       "      <td>Tax system applicable to spirits</td>\n",
       "      <td>Case 17/81</td>\n",
       "      <td>ECLI identifier: ECLI:EU:C:1982:129</td>\n",
       "      <td>03/02/1981</td>\n",
       "      <td>29/04/1982</td>\n",
       "      <td>Germany</td>\n",
       "      <td>Koopmans</td>\n",
       "      <td>Rozès</td>\n",
       "    </tr>\n",
       "    <tr>\n",
       "      <th>3</th>\n",
       "      <td>61996CJ0266</td>\n",
       "      <td>Judgment of the Court (Fifth Chamber) of 18 Ju...</td>\n",
       "      <td>Fifth Chamber</td>\n",
       "      <td>Corsica Ferries France SA v Gruppo Antichi O...</td>\n",
       "      <td>Check EUR-LEX webpage</td>\n",
       "      <td>Check EUR-LEX webpage</td>\n",
       "      <td>Case C-266/96</td>\n",
       "      <td>ECLI identifier: ECLI:EU:C:1998:306</td>\n",
       "      <td>02/08/1996</td>\n",
       "      <td>18/06/1998</td>\n",
       "      <td>Italy</td>\n",
       "      <td>Wathelet</td>\n",
       "      <td>Fennelly</td>\n",
       "    </tr>\n",
       "    <tr>\n",
       "      <th>4</th>\n",
       "      <td>62002CJ0025</td>\n",
       "      <td>Judgment of the Court of 9 September 2003</td>\n",
       "      <td>(blank)</td>\n",
       "      <td>Katharina Rinke v Ärztekammer Hamburg</td>\n",
       "      <td>Reference for a preliminary ruling: Bundesve...</td>\n",
       "      <td>Equal treatment for men and women - Directiv...</td>\n",
       "      <td>Case C-25/02</td>\n",
       "      <td>ECLI identifier: ECLI:EU:C:2003:435</td>\n",
       "      <td>31/01/2002</td>\n",
       "      <td>09/09/2003</td>\n",
       "      <td>Germany</td>\n",
       "      <td>Jann</td>\n",
       "      <td>(blank)</td>\n",
       "    </tr>\n",
       "  </tbody>\n",
       "</table>\n",
       "</div>"
      ],
      "text/plain": [
       "        source                                       ruling_title  \\\n",
       "0  61992CJ0379              Judgment of the Court of 14 July 1994   \n",
       "1  61978CJ0091             Judgment of the Court of 13 March 1979   \n",
       "2  61981CJ0017  Judgment of the Court (First Chamber) of 29 Ap...   \n",
       "3  61996CJ0266  Judgment of the Court (Fifth Chamber) of 18 Ju...   \n",
       "4  62002CJ0025          Judgment of the Court of 9 September 2003   \n",
       "\n",
       "         chamber                                        ruling_name  \\\n",
       "0        (blank)        Criminal proceedings against Matteo Peralta   \n",
       "1        (blank)                                   Hansen GmbH & Co   \n",
       "2  First Chamber        Pabst & Richarz KG v Hauptzollamt Oldenburg   \n",
       "3  Fifth Chamber    Corsica Ferries France SA v Gruppo Antichi O...   \n",
       "4        (blank)              Katharina Rinke v Ärztekammer Hamburg   \n",
       "\n",
       "                                         ruling_type  \\\n",
       "0    Reference for a preliminary ruling: Pretura ...   \n",
       "1                              Check EUR-LEX webpage   \n",
       "2    Reference for a preliminary ruling: Finanzge...   \n",
       "3                              Check EUR-LEX webpage   \n",
       "4    Reference for a preliminary ruling: Bundesve...   \n",
       "\n",
       "                                      ruling_content       case_label  \\\n",
       "0    Articles 3 (f); 7; 30; 48; 52; 59; 62; 84 an...    Case C-379/92   \n",
       "1                              Check EUR-LEX webpage       Case 91/78   \n",
       "2                   Tax system applicable to spirits       Case 17/81   \n",
       "3                              Check EUR-LEX webpage    Case C-266/96   \n",
       "4    Equal treatment for men and women - Directiv...     Case C-25/02   \n",
       "\n",
       "                                  ecli  lodge_date document_date  country  \\\n",
       "0  ECLI identifier: ECLI:EU:C:1994:296  19/10/1992    14/07/1994    Italy   \n",
       "1   ECLI identifier: ECLI:EU:C:1979:65  12/04/1978    13/03/1979  Germany   \n",
       "2  ECLI identifier: ECLI:EU:C:1982:129  03/02/1981    29/04/1982  Germany   \n",
       "3  ECLI identifier: ECLI:EU:C:1998:306  02/08/1996    18/06/1998    Italy   \n",
       "4  ECLI identifier: ECLI:EU:C:2003:435  31/01/2002    09/09/2003  Germany   \n",
       "\n",
       "       judge   advocate  \n",
       "0   Grévisse       Lenz  \n",
       "1  Pescatore  Capotorti  \n",
       "2   Koopmans      Rozès  \n",
       "3   Wathelet   Fennelly  \n",
       "4       Jann    (blank)  "
      ]
     },
     "execution_count": 154,
     "metadata": {},
     "output_type": "execute_result"
    }
   ],
   "source": [
    "metadata.head()"
   ]
  },
  {
   "cell_type": "code",
   "execution_count": 155,
   "metadata": {},
   "outputs": [],
   "source": [
    "#writer = pd.ExcelWriter('../data/judgements/judgement_metadata.xlsx')\n",
    "#metadata.to_excel(writer,'table')\n",
    "#writer.save()"
   ]
  },
  {
   "cell_type": "code",
   "execution_count": 156,
   "metadata": {},
   "outputs": [
    {
     "name": "stdout",
     "output_type": "stream",
     "text": [
      "11377 11374\n"
     ]
    }
   ],
   "source": [
    "print(len(metadata),len(metadata['source'].unique()))"
   ]
  },
  {
   "cell_type": "code",
   "execution_count": 157,
   "metadata": {},
   "outputs": [],
   "source": [
    "#joining the unique cases with the target and source aggregations\n",
    "df_cases = metadata.merge(df_source, 'left', on='source')\n",
    "df_cases = df_cases.merge(df_target, 'left', left_on='source', right_on='target')"
   ]
  },
  {
   "cell_type": "code",
   "execution_count": 160,
   "metadata": {},
   "outputs": [
    {
     "data": {
      "text/html": [
       "<div>\n",
       "<style scoped>\n",
       "    .dataframe tbody tr th:only-of-type {\n",
       "        vertical-align: middle;\n",
       "    }\n",
       "\n",
       "    .dataframe tbody tr th {\n",
       "        vertical-align: top;\n",
       "    }\n",
       "\n",
       "    .dataframe thead th {\n",
       "        text-align: right;\n",
       "    }\n",
       "</style>\n",
       "<table border=\"1\" class=\"dataframe\">\n",
       "  <thead>\n",
       "    <tr style=\"text-align: right;\">\n",
       "      <th></th>\n",
       "      <th>source</th>\n",
       "      <th>ruling_title</th>\n",
       "      <th>chamber</th>\n",
       "      <th>ruling_name</th>\n",
       "      <th>ruling_type</th>\n",
       "      <th>ruling_content</th>\n",
       "      <th>case_label</th>\n",
       "      <th>ecli</th>\n",
       "      <th>lodge_date</th>\n",
       "      <th>document_date</th>\n",
       "      <th>country</th>\n",
       "      <th>judge</th>\n",
       "      <th>advocate</th>\n",
       "      <th>targets</th>\n",
       "      <th>source_paragraphs</th>\n",
       "      <th>target</th>\n",
       "      <th>sources</th>\n",
       "      <th>target_paragraphs</th>\n",
       "    </tr>\n",
       "  </thead>\n",
       "  <tbody>\n",
       "    <tr>\n",
       "      <th>1058</th>\n",
       "      <td>62010CJ0539</td>\n",
       "      <td>Judgment of the Court (Third Chamber); 15 Nove...</td>\n",
       "      <td>Third Chamber</td>\n",
       "      <td>Stichting Al-Aqsa v Council of the European Un...</td>\n",
       "      <td>Check EUR-LEX webpage</td>\n",
       "      <td>Check EUR-LEX webpage</td>\n",
       "      <td>Joined Cases C-539/10 P and C-550/10 P</td>\n",
       "      <td>ECLI identifier: ECLI:EU:C:2012:711</td>\n",
       "      <td>18/11/2010</td>\n",
       "      <td>15/11/2012</td>\n",
       "      <td>Netherlands</td>\n",
       "      <td>von Danwitz</td>\n",
       "      <td>Trstenjak</td>\n",
       "      <td>55.0</td>\n",
       "      <td>222.0</td>\n",
       "      <td>62010CJ0539</td>\n",
       "      <td>10.0</td>\n",
       "      <td>36.0</td>\n",
       "    </tr>\n",
       "    <tr>\n",
       "      <th>1384</th>\n",
       "      <td>61974CJ0008</td>\n",
       "      <td>Judgment of the Court of 11 July 1974</td>\n",
       "      <td>(blank)</td>\n",
       "      <td>Procureur du Roi v Benoît and Gustave Dasson...</td>\n",
       "      <td>Check EUR-LEX webpage</td>\n",
       "      <td>Check EUR-LEX webpage</td>\n",
       "      <td>Case 8-74</td>\n",
       "      <td>ECLI identifier: ECLI:EU:C:1974:82</td>\n",
       "      <td>08/02/1974</td>\n",
       "      <td>11/07/1974</td>\n",
       "      <td>Belgium</td>\n",
       "      <td>Donner</td>\n",
       "      <td>Trabucchi</td>\n",
       "      <td>NaN</td>\n",
       "      <td>NaN</td>\n",
       "      <td>61974CJ0008</td>\n",
       "      <td>128.0</td>\n",
       "      <td>341.0</td>\n",
       "    </tr>\n",
       "    <tr>\n",
       "      <th>2122</th>\n",
       "      <td>61993CJ0415</td>\n",
       "      <td>Judgment of the Court of 15 December 1995</td>\n",
       "      <td>(blank)</td>\n",
       "      <td>Union royale belge des sociétés de football ...</td>\n",
       "      <td>Reference for a preliminary ruling: Cour d'a...</td>\n",
       "      <td>Freedom of movement for workers - Competitio...</td>\n",
       "      <td>Case C-415/93</td>\n",
       "      <td>ECLI identifier: ECLI:EU:C:1995:463</td>\n",
       "      <td>06/10/1993</td>\n",
       "      <td>15/12/1995</td>\n",
       "      <td>Belgium</td>\n",
       "      <td>Mancini</td>\n",
       "      <td>Lenz</td>\n",
       "      <td>21.0</td>\n",
       "      <td>130.0</td>\n",
       "      <td>61993CJ0415</td>\n",
       "      <td>146.0</td>\n",
       "      <td>500.0</td>\n",
       "    </tr>\n",
       "  </tbody>\n",
       "</table>\n",
       "</div>"
      ],
      "text/plain": [
       "           source                                       ruling_title  \\\n",
       "1058  62010CJ0539  Judgment of the Court (Third Chamber); 15 Nove...   \n",
       "1384  61974CJ0008              Judgment of the Court of 11 July 1974   \n",
       "2122  61993CJ0415          Judgment of the Court of 15 December 1995   \n",
       "\n",
       "            chamber                                        ruling_name  \\\n",
       "1058  Third Chamber  Stichting Al-Aqsa v Council of the European Un...   \n",
       "1384        (blank)    Procureur du Roi v Benoît and Gustave Dasson...   \n",
       "2122        (blank)    Union royale belge des sociétés de football ...   \n",
       "\n",
       "                                            ruling_type  \\\n",
       "1058                              Check EUR-LEX webpage   \n",
       "1384                              Check EUR-LEX webpage   \n",
       "2122    Reference for a preliminary ruling: Cour d'a...   \n",
       "\n",
       "                                         ruling_content  \\\n",
       "1058                              Check EUR-LEX webpage   \n",
       "1384                              Check EUR-LEX webpage   \n",
       "2122    Freedom of movement for workers - Competitio...   \n",
       "\n",
       "                                  case_label  \\\n",
       "1058  Joined Cases C-539/10 P and C-550/10 P   \n",
       "1384                               Case 8-74   \n",
       "2122                           Case C-415/93   \n",
       "\n",
       "                                     ecli  lodge_date document_date  \\\n",
       "1058  ECLI identifier: ECLI:EU:C:2012:711  18/11/2010    15/11/2012   \n",
       "1384   ECLI identifier: ECLI:EU:C:1974:82  08/02/1974    11/07/1974   \n",
       "2122  ECLI identifier: ECLI:EU:C:1995:463  06/10/1993    15/12/1995   \n",
       "\n",
       "          country        judge   advocate  targets  source_paragraphs  \\\n",
       "1058  Netherlands  von Danwitz  Trstenjak     55.0              222.0   \n",
       "1384      Belgium       Donner  Trabucchi      NaN                NaN   \n",
       "2122      Belgium      Mancini       Lenz     21.0              130.0   \n",
       "\n",
       "           target  sources  target_paragraphs  \n",
       "1058  62010CJ0539     10.0               36.0  \n",
       "1384  61974CJ0008    128.0              341.0  \n",
       "2122  61993CJ0415    146.0              500.0  "
      ]
     },
     "execution_count": 160,
     "metadata": {},
     "output_type": "execute_result"
    }
   ],
   "source": [
    "df_cases[(df_cases['source'] == '61974CJ0008') | (df_cases['source'] == '61993CJ0415') | (df_cases['source'] == '62010CJ0539')]"
   ]
  },
  {
   "cell_type": "code",
   "execution_count": 161,
   "metadata": {},
   "outputs": [],
   "source": [
    "df_cases.to_csv('../data/judgements/judgements.csv', sep=',', header=True, encoding='utf-8',index=False)"
   ]
  },
  {
   "cell_type": "code",
   "execution_count": 141,
   "metadata": {},
   "outputs": [],
   "source": [
    "#lines = []\n",
    "#for i in df['source']:\n",
    "#    lines.append(i)\n",
    "#\n",
    "#lines2 = []\n",
    "#for idx, j in enumerate(lines):\n",
    "#    j = j+' '+df['target'][idx]\n",
    "#    lines2.append(j)"
   ]
  },
  {
   "cell_type": "code",
   "execution_count": null,
   "metadata": {},
   "outputs": [],
   "source": [
    "#parsing pandas to lines for networkx to read#parsin \n",
    "lines = [j+' '+df['target'][idx] for idx, j in enumerate([i for i in df['source']]) ]"
   ]
  },
  {
   "cell_type": "code",
   "execution_count": 9,
   "metadata": {},
   "outputs": [],
   "source": [
    "# Using an small graph\n",
    "g = nx.parse_edgelist(lines, create_using=nx.DiGraph())"
   ]
  },
  {
   "cell_type": "code",
   "execution_count": 10,
   "metadata": {},
   "outputs": [],
   "source": [
    "# Using an small graph\n",
    "#g = nx.read_edgelist('orders_general_filter.txt',create_using=nx.DiGraph())"
   ]
  },
  {
   "cell_type": "code",
   "execution_count": 11,
   "metadata": {},
   "outputs": [],
   "source": [
    "nodes, edges = g.order(), g.size()"
   ]
  },
  {
   "cell_type": "code",
   "execution_count": 12,
   "metadata": {},
   "outputs": [],
   "source": [
    "avg_deg = float(nodes)/edges"
   ]
  },
  {
   "cell_type": "code",
   "execution_count": 13,
   "metadata": {},
   "outputs": [
    {
     "name": "stdout",
     "output_type": "stream",
     "text": [
      "Nodes: 11578\n",
      "Edges: 58333\n",
      "Avg Degree: 0.19848113417790958\n"
     ]
    }
   ],
   "source": [
    "print ('Nodes: {}\\nEdges: {}\\nAvg Degree: {}'.format(nodes, edges, avg_deg) )"
   ]
  },
  {
   "cell_type": "markdown",
   "metadata": {},
   "source": [
    "## Centrality Measures"
   ]
  },
  {
   "cell_type": "code",
   "execution_count": 14,
   "metadata": {},
   "outputs": [],
   "source": [
    "def centrality_table(centrality_output):\n",
    "    table = pd.DataFrame([i for i in centrality_output.items()]).sort_values(by=1, ascending=False)\n",
    "    table.columns = ['Node','Centrality']\n",
    "    return table"
   ]
  },
  {
   "cell_type": "markdown",
   "metadata": {},
   "source": [
    "**Degree centrality**  \n",
    "For particular node is the fraction of nodes it is connected to. We might assume that the node with highest value it's the more connected judgement across the network"
   ]
  },
  {
   "cell_type": "code",
   "execution_count": 14,
   "metadata": {},
   "outputs": [
    {
     "data": {
      "text/html": [
       "<div>\n",
       "<style scoped>\n",
       "    .dataframe tbody tr th:only-of-type {\n",
       "        vertical-align: middle;\n",
       "    }\n",
       "\n",
       "    .dataframe tbody tr th {\n",
       "        vertical-align: top;\n",
       "    }\n",
       "\n",
       "    .dataframe thead th {\n",
       "        text-align: right;\n",
       "    }\n",
       "</style>\n",
       "<table border=\"1\" class=\"dataframe\">\n",
       "  <thead>\n",
       "    <tr style=\"text-align: right;\">\n",
       "      <th></th>\n",
       "      <th>Node</th>\n",
       "      <th>Centrality</th>\n",
       "    </tr>\n",
       "  </thead>\n",
       "  <tbody>\n",
       "    <tr>\n",
       "      <th>3502</th>\n",
       "      <td>61993CJ0415</td>\n",
       "      <td>0.014425</td>\n",
       "    </tr>\n",
       "    <tr>\n",
       "      <th>9534</th>\n",
       "      <td>62002CJ0189</td>\n",
       "      <td>0.012093</td>\n",
       "    </tr>\n",
       "    <tr>\n",
       "      <th>299</th>\n",
       "      <td>61974CJ0008</td>\n",
       "      <td>0.011056</td>\n",
       "    </tr>\n",
       "    <tr>\n",
       "      <th>10924</th>\n",
       "      <td>61998CJ0379</td>\n",
       "      <td>0.010797</td>\n",
       "    </tr>\n",
       "    <tr>\n",
       "      <th>7536</th>\n",
       "      <td>62000CJ0204</td>\n",
       "      <td>0.009588</td>\n",
       "    </tr>\n",
       "    <tr>\n",
       "      <th>7360</th>\n",
       "      <td>62002CJ0255</td>\n",
       "      <td>0.008465</td>\n",
       "    </tr>\n",
       "    <tr>\n",
       "      <th>3100</th>\n",
       "      <td>62004CJ0446</td>\n",
       "      <td>0.008379</td>\n",
       "    </tr>\n",
       "    <tr>\n",
       "      <th>896</th>\n",
       "      <td>61992CJ0136</td>\n",
       "      <td>0.008206</td>\n",
       "    </tr>\n",
       "    <tr>\n",
       "      <th>4287</th>\n",
       "      <td>61999CJ0238</td>\n",
       "      <td>0.008033</td>\n",
       "    </tr>\n",
       "    <tr>\n",
       "      <th>8376</th>\n",
       "      <td>62004CJ0344</td>\n",
       "      <td>0.007860</td>\n",
       "    </tr>\n",
       "  </tbody>\n",
       "</table>\n",
       "</div>"
      ],
      "text/plain": [
       "              Node  Centrality\n",
       "3502   61993CJ0415    0.014425\n",
       "9534   62002CJ0189    0.012093\n",
       "299    61974CJ0008    0.011056\n",
       "10924  61998CJ0379    0.010797\n",
       "7536   62000CJ0204    0.009588\n",
       "7360   62002CJ0255    0.008465\n",
       "3100   62004CJ0446    0.008379\n",
       "896    61992CJ0136    0.008206\n",
       "4287   61999CJ0238    0.008033\n",
       "8376   62004CJ0344    0.007860"
      ]
     },
     "execution_count": 14,
     "metadata": {},
     "output_type": "execute_result"
    }
   ],
   "source": [
    "degree = nx.degree_centrality(g)\n",
    "df_degree = centrality_table(degree)\n",
    "df_degree.head(10)"
   ]
  },
  {
   "cell_type": "markdown",
   "metadata": {},
   "source": [
    "**Closeness centrality**   \n",
    "\n",
    "Notice that higher values of closeness indicate higher centrality. Literaly we might say that is a \"heavy\" node, which influences others and it's very in the center of the network"
   ]
  },
  {
   "cell_type": "code",
   "execution_count": 15,
   "metadata": {},
   "outputs": [
    {
     "data": {
      "text/html": [
       "<div>\n",
       "<style scoped>\n",
       "    .dataframe tbody tr th:only-of-type {\n",
       "        vertical-align: middle;\n",
       "    }\n",
       "\n",
       "    .dataframe tbody tr th {\n",
       "        vertical-align: top;\n",
       "    }\n",
       "\n",
       "    .dataframe thead th {\n",
       "        text-align: right;\n",
       "    }\n",
       "</style>\n",
       "<table border=\"1\" class=\"dataframe\">\n",
       "  <thead>\n",
       "    <tr style=\"text-align: right;\">\n",
       "      <th></th>\n",
       "      <th>Node</th>\n",
       "      <th>Centrality</th>\n",
       "    </tr>\n",
       "  </thead>\n",
       "  <tbody>\n",
       "    <tr>\n",
       "      <th>10329</th>\n",
       "      <td>61981CJ0008</td>\n",
       "      <td>0.145819</td>\n",
       "    </tr>\n",
       "    <tr>\n",
       "      <th>299</th>\n",
       "      <td>61974CJ0008</td>\n",
       "      <td>0.140403</td>\n",
       "    </tr>\n",
       "    <tr>\n",
       "      <th>8624</th>\n",
       "      <td>61984CJ0152</td>\n",
       "      <td>0.140383</td>\n",
       "    </tr>\n",
       "    <tr>\n",
       "      <th>5697</th>\n",
       "      <td>61976CJ0033</td>\n",
       "      <td>0.136915</td>\n",
       "    </tr>\n",
       "    <tr>\n",
       "      <th>3502</th>\n",
       "      <td>61993CJ0415</td>\n",
       "      <td>0.135670</td>\n",
       "    </tr>\n",
       "    <tr>\n",
       "      <th>6897</th>\n",
       "      <td>61975CJ0043</td>\n",
       "      <td>0.134770</td>\n",
       "    </tr>\n",
       "    <tr>\n",
       "      <th>8126</th>\n",
       "      <td>61983CJ0014</td>\n",
       "      <td>0.133693</td>\n",
       "    </tr>\n",
       "    <tr>\n",
       "      <th>438</th>\n",
       "      <td>61977CJ0106</td>\n",
       "      <td>0.133375</td>\n",
       "    </tr>\n",
       "    <tr>\n",
       "      <th>7503</th>\n",
       "      <td>61978CJ0120</td>\n",
       "      <td>0.133174</td>\n",
       "    </tr>\n",
       "    <tr>\n",
       "      <th>1842</th>\n",
       "      <td>61984CJ0222</td>\n",
       "      <td>0.130741</td>\n",
       "    </tr>\n",
       "  </tbody>\n",
       "</table>\n",
       "</div>"
      ],
      "text/plain": [
       "              Node  Centrality\n",
       "10329  61981CJ0008    0.145819\n",
       "299    61974CJ0008    0.140403\n",
       "8624   61984CJ0152    0.140383\n",
       "5697   61976CJ0033    0.136915\n",
       "3502   61993CJ0415    0.135670\n",
       "6897   61975CJ0043    0.134770\n",
       "8126   61983CJ0014    0.133693\n",
       "438    61977CJ0106    0.133375\n",
       "7503   61978CJ0120    0.133174\n",
       "1842   61984CJ0222    0.130741"
      ]
     },
     "execution_count": 15,
     "metadata": {},
     "output_type": "execute_result"
    }
   ],
   "source": [
    "closeness = nx.closeness_centrality(g)\n",
    "df_closeness = centrality_table(closeness)\n",
    "df_closeness.head(10)"
   ]
  },
  {
   "cell_type": "markdown",
   "metadata": {},
   "source": [
    "**Communicability**   \n",
    "How good the nodes can reach others"
   ]
  },
  {
   "cell_type": "code",
   "execution_count": 16,
   "metadata": {},
   "outputs": [],
   "source": [
    "#not for diricted graph\n",
    "#communicability = nx.communicability(g)\n",
    "#df_communicability = centrality_summary(communicability)\n",
    "#df_communicability.head(10)"
   ]
  },
  {
   "cell_type": "markdown",
   "metadata": {},
   "source": [
    "**Betweenness centrality**   \n",
    "The highest betweenness the highest control over the network, because more information will pass through that node"
   ]
  },
  {
   "cell_type": "code",
   "execution_count": 15,
   "metadata": {},
   "outputs": [],
   "source": [
    "betweenness = nx.betweenness_centrality(g)"
   ]
  },
  {
   "cell_type": "code",
   "execution_count": 16,
   "metadata": {},
   "outputs": [
    {
     "data": {
      "text/html": [
       "<div>\n",
       "<style scoped>\n",
       "    .dataframe tbody tr th:only-of-type {\n",
       "        vertical-align: middle;\n",
       "    }\n",
       "\n",
       "    .dataframe tbody tr th {\n",
       "        vertical-align: top;\n",
       "    }\n",
       "\n",
       "    .dataframe thead th {\n",
       "        text-align: right;\n",
       "    }\n",
       "</style>\n",
       "<table border=\"1\" class=\"dataframe\">\n",
       "  <thead>\n",
       "    <tr style=\"text-align: right;\">\n",
       "      <th></th>\n",
       "      <th>Node</th>\n",
       "      <th>Centrality</th>\n",
       "    </tr>\n",
       "  </thead>\n",
       "  <tbody>\n",
       "    <tr>\n",
       "      <th>1485</th>\n",
       "      <td>62004CJ0344</td>\n",
       "      <td>0.003539</td>\n",
       "    </tr>\n",
       "    <tr>\n",
       "      <th>11422</th>\n",
       "      <td>61993CJ0415</td>\n",
       "      <td>0.002531</td>\n",
       "    </tr>\n",
       "    <tr>\n",
       "      <th>9215</th>\n",
       "      <td>62002CJ0189</td>\n",
       "      <td>0.002485</td>\n",
       "    </tr>\n",
       "    <tr>\n",
       "      <th>11377</th>\n",
       "      <td>62010CJ0188</td>\n",
       "      <td>0.002444</td>\n",
       "    </tr>\n",
       "    <tr>\n",
       "      <th>64</th>\n",
       "      <td>62003CJ0210</td>\n",
       "      <td>0.002405</td>\n",
       "    </tr>\n",
       "    <tr>\n",
       "      <th>2966</th>\n",
       "      <td>62006CJ0268</td>\n",
       "      <td>0.002087</td>\n",
       "    </tr>\n",
       "    <tr>\n",
       "      <th>6675</th>\n",
       "      <td>62010CJ0617</td>\n",
       "      <td>0.002083</td>\n",
       "    </tr>\n",
       "    <tr>\n",
       "      <th>9903</th>\n",
       "      <td>62001CJ0491</td>\n",
       "      <td>0.002046</td>\n",
       "    </tr>\n",
       "    <tr>\n",
       "      <th>2987</th>\n",
       "      <td>62005CJ0341</td>\n",
       "      <td>0.001964</td>\n",
       "    </tr>\n",
       "    <tr>\n",
       "      <th>11511</th>\n",
       "      <td>62007CJ0169</td>\n",
       "      <td>0.001865</td>\n",
       "    </tr>\n",
       "  </tbody>\n",
       "</table>\n",
       "</div>"
      ],
      "text/plain": [
       "              Node  Centrality\n",
       "1485   62004CJ0344    0.003539\n",
       "11422  61993CJ0415    0.002531\n",
       "9215   62002CJ0189    0.002485\n",
       "11377  62010CJ0188    0.002444\n",
       "64     62003CJ0210    0.002405\n",
       "2966   62006CJ0268    0.002087\n",
       "6675   62010CJ0617    0.002083\n",
       "9903   62001CJ0491    0.002046\n",
       "2987   62005CJ0341    0.001964\n",
       "11511  62007CJ0169    0.001865"
      ]
     },
     "execution_count": 16,
     "metadata": {},
     "output_type": "execute_result"
    }
   ],
   "source": [
    "df_betweenness = centrality_table(betweenness)\n",
    "df_betweenness.head(10)"
   ]
  },
  {
   "cell_type": "code",
   "execution_count": 20,
   "metadata": {},
   "outputs": [],
   "source": [
    "tradeoff = 0.002"
   ]
  },
  {
   "cell_type": "code",
   "execution_count": 21,
   "metadata": {},
   "outputs": [
    {
     "data": {
      "text/plain": [
       "11578"
      ]
     },
     "execution_count": 21,
     "metadata": {},
     "output_type": "execute_result"
    }
   ],
   "source": [
    "len(betweenness.keys())"
   ]
  },
  {
   "cell_type": "code",
   "execution_count": 22,
   "metadata": {},
   "outputs": [],
   "source": [
    "top_80 = [i for i in betweenness.keys()][0:80]"
   ]
  },
  {
   "cell_type": "code",
   "execution_count": 23,
   "metadata": {},
   "outputs": [],
   "source": [
    "betweenness_top = {k:betweenness[k] for k in top_80 if k in betweenness} #the variable has the same name but it's just the top"
   ]
  },
  {
   "cell_type": "code",
   "execution_count": 24,
   "metadata": {},
   "outputs": [],
   "source": [
    "highbetw = {key if value > tradeoff else None for key, value in betweenness_top.items()}\n",
    "normbetw = {key if value <= tradeoff else None for key, value in betweenness_top.items()}"
   ]
  },
  {
   "cell_type": "code",
   "execution_count": 25,
   "metadata": {},
   "outputs": [],
   "source": [
    "subgraphs = [highbetw,normbetw]\n",
    "colors = [\"lightgreen\", \"skyblue\"] #more.. \"skyblue\", \"mistyrose\", \"aliceblue\"]"
   ]
  },
  {
   "cell_type": "code",
   "execution_count": 26,
   "metadata": {},
   "outputs": [],
   "source": [
    "def find_color(node):\n",
    "    for subgraph in subgraphs:\n",
    "        if node in subgraph:\n",
    "            return colors[subgraphs.index(subgraph)]\n",
    "    return \"ghostwhite\""
   ]
  },
  {
   "cell_type": "code",
   "execution_count": 35,
   "metadata": {},
   "outputs": [],
   "source": [
    "#subgraph of 100 nodes with higher betweenes\n",
    "#{k:g[k] for k in top_80 if k in g}"
   ]
  },
  {
   "cell_type": "code",
   "execution_count": 34,
   "metadata": {},
   "outputs": [],
   "source": [
    "#for i in g:\n",
    "#    print (i)"
   ]
  },
  {
   "cell_type": "code",
   "execution_count": 27,
   "metadata": {},
   "outputs": [],
   "source": [
    "node_colors = [find_color(node) for node in g.nodes()]"
   ]
  },
  {
   "cell_type": "code",
   "execution_count": 36,
   "metadata": {},
   "outputs": [],
   "source": [
    "#plt.figure(figsize=(16, 8))\n",
    "#nx.draw(g, node_color=node_colors, width=0.8)"
   ]
  },
  {
   "cell_type": "code",
   "execution_count": 42,
   "metadata": {},
   "outputs": [
    {
     "data": {
      "image/png": "[encoded data removed]",
      "text/plain": [
       "<matplotlib.figure.Figure at 0x1189a3390>"
      ]
     },
     "metadata": {},
     "output_type": "display_data"
    }
   ],
   "source": [
    "plt.figure(figsize=(16, 8))\n",
    "nx.draw(g, node_color=node_colors, width=0.8)"
   ]
  },
  {
   "cell_type": "code",
   "execution_count": 43,
   "metadata": {},
   "outputs": [],
   "source": [
    "pagerank = nx.pagerank(g, alpha=0.9)"
   ]
  },
  {
   "cell_type": "code",
   "execution_count": 28,
   "metadata": {},
   "outputs": [],
   "source": [
    "# Create function to retrieve nodes and its degrees\n",
    "def degree_table(degree_vector):\n",
    "    d_table = pd.DataFrame()\n",
    "    nodes, degrees = [], []\n",
    "    for node, degree in degree_vector:\n",
    "        nodes.append(node)\n",
    "        degrees.append(degree)\n",
    "    \n",
    "    d_table['nodes'] = nodes\n",
    "    d_table['degrees'] = degrees\n",
    "    return d_table"
   ]
  },
  {
   "cell_type": "markdown",
   "metadata": {},
   "source": [
    "#### Degree Frequency"
   ]
  },
  {
   "cell_type": "code",
   "execution_count": 29,
   "metadata": {},
   "outputs": [],
   "source": [
    "degrees = degree_table(g.degree()) #also in_degree(), g.out_degree()\n",
    "plot_degrees = degrees.groupby('degrees').count().head(10)"
   ]
  },
  {
   "cell_type": "code",
   "execution_count": 30,
   "metadata": {},
   "outputs": [
    {
     "data": {
      "text/plain": [
       "Text(0,0.5,'Number of nodes')"
      ]
     },
     "execution_count": 30,
     "metadata": {},
     "output_type": "execute_result"
    },
    {
     "data": {
      "image/png": "[encoded data removed]",
      "text/plain": [
       "<matplotlib.figure.Figure at 0x152d1d8a90>"
      ]
     },
     "metadata": {},
     "output_type": "display_data"
    }
   ],
   "source": [
    "plt.figure(figsize=(16, 6))\n",
    "plt.bar(plot_degrees.index, plot_degrees['nodes']) # degree\n",
    "plt.xlabel('Degree')\n",
    "plt.ylabel('Number of nodes')"
   ]
  },
  {
   "cell_type": "markdown",
   "metadata": {},
   "source": [
    "**Eccentricity**   \n",
    "Of a node v is the maximum distance from v to all other nodes in G."
   ]
  },
  {
   "cell_type": "markdown",
   "metadata": {},
   "source": [
    "The **diameter** is the maximum eccentricity."
   ]
  },
  {
   "cell_type": "code",
   "execution_count": 51,
   "metadata": {},
   "outputs": [],
   "source": [
    "#nx.diameter(g)"
   ]
  },
  {
   "cell_type": "markdown",
   "metadata": {},
   "source": [
    "The **radius** is the minimum eccentricity."
   ]
  },
  {
   "cell_type": "code",
   "execution_count": 53,
   "metadata": {},
   "outputs": [],
   "source": [
    "#nx.radius(g)"
   ]
  },
  {
   "cell_type": "markdown",
   "metadata": {},
   "source": [
    "The **center** is the set of nodes with eccentricity equal to radius."
   ]
  },
  {
   "cell_type": "code",
   "execution_count": null,
   "metadata": {},
   "outputs": [],
   "source": [
    "#nx.center(g)"
   ]
  },
  {
   "cell_type": "markdown",
   "metadata": {},
   "source": [
    "The **dijkstra** method to find the shortest path between two nodes "
   ]
  },
  {
   "cell_type": "code",
   "execution_count": null,
   "metadata": {},
   "outputs": [],
   "source": [
    "#dijkstra = nx.dijkstra_path(g,#'node','node')"
   ]
  }
 ],
 "metadata": {
  "kernelspec": {
   "display_name": "Python 3",
   "language": "python",
   "name": "python3"
  },
  "language_info": {
   "codemirror_mode": {
    "name": "ipython",
    "version": 3
   },
   "file_extension": ".py",
   "mimetype": "text/x-python",
   "name": "python",
   "nbconvert_exporter": "python",
   "pygments_lexer": "ipython3",
   "version": "3.7.6"
  }
 },
 "nbformat": 4,
 "nbformat_minor": 4
}
