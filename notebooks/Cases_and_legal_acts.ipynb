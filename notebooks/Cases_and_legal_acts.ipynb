{
 "cells": [
  {
   "cell_type": "markdown",
   "metadata": {},
   "source": [
    "## Relation of Cases and Legal acts"
   ]
  },
  {
   "cell_type": "code",
   "execution_count": 1,
   "metadata": {},
   "outputs": [],
   "source": [
    "import pandas as pd"
   ]
  },
  {
   "cell_type": "code",
   "execution_count": 2,
   "metadata": {},
   "outputs": [],
   "source": [
    "cases_laws = pd.read_csv('../datasets/cjeu_cited_laws.csv')\n",
    "\n",
    "#### Labeling Regulations, Directives and Decisions\n",
    "cases_laws['law_type'] = ['R' if ('R' in i) else 'L' if ('L' in i) else 'D' if ('D' in i) else 'NA' for i in cases_laws.law_id]\n",
    "filtr = [l for l in cases_laws.law_id if len(l) <= 12]\n",
    "cases_laws = cases_laws[cases_laws.law_id.isin(filtr)] "
   ]
  },
  {
   "cell_type": "code",
   "execution_count": 3,
   "metadata": {},
   "outputs": [
    {
     "data": {
      "text/html": [
       "<div>\n",
       "<style scoped>\n",
       "    .dataframe tbody tr th:only-of-type {\n",
       "        vertical-align: middle;\n",
       "    }\n",
       "\n",
       "    .dataframe tbody tr th {\n",
       "        vertical-align: top;\n",
       "    }\n",
       "\n",
       "    .dataframe thead th {\n",
       "        text-align: right;\n",
       "    }\n",
       "</style>\n",
       "<table border=\"1\" class=\"dataframe\">\n",
       "  <thead>\n",
       "    <tr style=\"text-align: right;\">\n",
       "      <th></th>\n",
       "      <th>case_id</th>\n",
       "      <th>law_id</th>\n",
       "      <th>cited_article</th>\n",
       "      <th>law_type</th>\n",
       "    </tr>\n",
       "  </thead>\n",
       "  <tbody>\n",
       "    <tr>\n",
       "      <th>1</th>\n",
       "      <td>61954CJ0001</td>\n",
       "      <td>11951K002</td>\n",
       "      <td>ENTIRE_ARTICLE</td>\n",
       "      <td>NA</td>\n",
       "    </tr>\n",
       "    <tr>\n",
       "      <th>2</th>\n",
       "      <td>61954CJ0001</td>\n",
       "      <td>11951K003</td>\n",
       "      <td>ENTIRE_ARTICLE</td>\n",
       "      <td>NA</td>\n",
       "    </tr>\n",
       "    <tr>\n",
       "      <th>3</th>\n",
       "      <td>61954CJ0001</td>\n",
       "      <td>11951K004</td>\n",
       "      <td>ENTIRE_ARTICLE</td>\n",
       "      <td>NA</td>\n",
       "    </tr>\n",
       "  </tbody>\n",
       "</table>\n",
       "</div>"
      ],
      "text/plain": [
       "       case_id     law_id   cited_article law_type\n",
       "1  61954CJ0001  11951K002  ENTIRE_ARTICLE       NA\n",
       "2  61954CJ0001  11951K003  ENTIRE_ARTICLE       NA\n",
       "3  61954CJ0001  11951K004  ENTIRE_ARTICLE       NA"
      ]
     },
     "execution_count": 3,
     "metadata": {},
     "output_type": "execute_result"
    }
   ],
   "source": [
    "cases_laws.head(3)"
   ]
  },
  {
   "cell_type": "code",
   "execution_count": 4,
   "metadata": {},
   "outputs": [
    {
     "data": {
      "text/plain": [
       "array(['NA', 'D', 'R', 'L'], dtype=object)"
      ]
     },
     "execution_count": 4,
     "metadata": {},
     "output_type": "execute_result"
    }
   ],
   "source": [
    "cases_laws.law_type.unique()"
   ]
  },
  {
   "cell_type": "markdown",
   "metadata": {},
   "source": [
    "### 1. What are the cases that cite the most (unique) laws?"
   ]
  },
  {
   "cell_type": "markdown",
   "metadata": {},
   "source": [
    "A case can cite a law multiples times since can make different references depending on the article is citing"
   ]
  },
  {
   "cell_type": "code",
   "execution_count": 5,
   "metadata": {},
   "outputs": [],
   "source": [
    "#cases_laws[cases_laws['case_id']=='62010CJ0311']\n",
    "#Top case: https://eur-lex.europa.eu/legal-content/EN/ALL/?uri=CELEX:62010CJ0311&qid=1594558909597\n",
    "#It is actually a failure in transposition!!\n",
    "#Counting non-unique laws"
   ]
  },
  {
   "cell_type": "code",
   "execution_count": 6,
   "metadata": {},
   "outputs": [
    {
     "data": {
      "text/html": [
       "<div>\n",
       "<style scoped>\n",
       "    .dataframe tbody tr th:only-of-type {\n",
       "        vertical-align: middle;\n",
       "    }\n",
       "\n",
       "    .dataframe tbody tr th {\n",
       "        vertical-align: top;\n",
       "    }\n",
       "\n",
       "    .dataframe thead th {\n",
       "        text-align: right;\n",
       "    }\n",
       "</style>\n",
       "<table border=\"1\" class=\"dataframe\">\n",
       "  <thead>\n",
       "    <tr style=\"text-align: right;\">\n",
       "      <th></th>\n",
       "      <th>case_id</th>\n",
       "      <th>laws</th>\n",
       "    </tr>\n",
       "  </thead>\n",
       "  <tbody>\n",
       "    <tr>\n",
       "      <th>0</th>\n",
       "      <td>62014CJ0005</td>\n",
       "      <td>40</td>\n",
       "    </tr>\n",
       "    <tr>\n",
       "      <th>1</th>\n",
       "      <td>62001CJ0030</td>\n",
       "      <td>26</td>\n",
       "    </tr>\n",
       "    <tr>\n",
       "      <th>2</th>\n",
       "      <td>62015CJ0589</td>\n",
       "      <td>22</td>\n",
       "    </tr>\n",
       "    <tr>\n",
       "      <th>3</th>\n",
       "      <td>61997CJ0253</td>\n",
       "      <td>22</td>\n",
       "    </tr>\n",
       "    <tr>\n",
       "      <th>4</th>\n",
       "      <td>62015CJ0079</td>\n",
       "      <td>18</td>\n",
       "    </tr>\n",
       "    <tr>\n",
       "      <th>5</th>\n",
       "      <td>61978CJ0154</td>\n",
       "      <td>16</td>\n",
       "    </tr>\n",
       "    <tr>\n",
       "      <th>6</th>\n",
       "      <td>61997CJ0046</td>\n",
       "      <td>16</td>\n",
       "    </tr>\n",
       "    <tr>\n",
       "      <th>7</th>\n",
       "      <td>62015CJ0333</td>\n",
       "      <td>15</td>\n",
       "    </tr>\n",
       "    <tr>\n",
       "      <th>8</th>\n",
       "      <td>62012CJ0335</td>\n",
       "      <td>15</td>\n",
       "    </tr>\n",
       "    <tr>\n",
       "      <th>9</th>\n",
       "      <td>62017CJ0611</td>\n",
       "      <td>14</td>\n",
       "    </tr>\n",
       "  </tbody>\n",
       "</table>\n",
       "</div>"
      ],
      "text/plain": [
       "       case_id  laws\n",
       "0  62014CJ0005    40\n",
       "1  62001CJ0030    26\n",
       "2  62015CJ0589    22\n",
       "3  61997CJ0253    22\n",
       "4  62015CJ0079    18\n",
       "5  61978CJ0154    16\n",
       "6  61997CJ0046    16\n",
       "7  62015CJ0333    15\n",
       "8  62012CJ0335    15\n",
       "9  62017CJ0611    14"
      ]
     },
     "execution_count": 6,
     "metadata": {},
     "output_type": "execute_result"
    }
   ],
   "source": [
    "# Cases that cite the most laws\n",
    "cases_count = cases_laws\\\n",
    "    .drop_duplicates(subset='law_id', keep=\"last\")\\\n",
    "    .groupby('case_id')\\\n",
    "    .count()['law_id']\\\n",
    "    .sort_values(ascending=False)\\\n",
    "    .reset_index()\\\n",
    "    .rename(columns={'law_id':'laws'})\n",
    "cases_count.head(10)"
   ]
  },
  {
   "cell_type": "markdown",
   "metadata": {},
   "source": [
    "Top case: https://eur-lex.europa.eu/legal-content/EN/TXT/?qid=1596578406034&uri=CELEX:62014CJ0005  \n",
    "It is an interlocutory procedure for review of constitutionality"
   ]
  },
  {
   "cell_type": "markdown",
   "metadata": {},
   "source": [
    "### 2. What are the laws that reference most cases?"
   ]
  },
  {
   "cell_type": "markdown",
   "metadata": {},
   "source": [
    "We only account mandatory EU legal acts: Regulations, Directives and Decisions "
   ]
  },
  {
   "cell_type": "code",
   "execution_count": 9,
   "metadata": {},
   "outputs": [],
   "source": [
    "# Laws that are most cited by cases\n",
    "laws_count = cases_laws[(cases_laws['law_type'] == 'R') | (cases_laws['law_type'] == 'L') | (cases_laws['law_type'] == 'D')]\\\n",
    "    .drop_duplicates(subset='case_id', keep=\"last\")\\\n",
    "    .groupby(['law_id','law_type'])\\\n",
    "    .count()['case_id']\\\n",
    "    .sort_values(ascending=False)\\\n",
    "    .reset_index()\\\n",
    "    .rename(columns={'case_id':'cases'})"
   ]
  },
  {
   "cell_type": "code",
   "execution_count": 10,
   "metadata": {},
   "outputs": [
    {
     "data": {
      "text/html": [
       "<div>\n",
       "<style scoped>\n",
       "    .dataframe tbody tr th:only-of-type {\n",
       "        vertical-align: middle;\n",
       "    }\n",
       "\n",
       "    .dataframe tbody tr th {\n",
       "        vertical-align: top;\n",
       "    }\n",
       "\n",
       "    .dataframe thead th {\n",
       "        text-align: right;\n",
       "    }\n",
       "</style>\n",
       "<table border=\"1\" class=\"dataframe\">\n",
       "  <thead>\n",
       "    <tr style=\"text-align: right;\">\n",
       "      <th></th>\n",
       "      <th>law_id</th>\n",
       "      <th>law_type</th>\n",
       "      <th>cases</th>\n",
       "    </tr>\n",
       "  </thead>\n",
       "  <tbody>\n",
       "    <tr>\n",
       "      <th>0</th>\n",
       "      <td>31977L0388</td>\n",
       "      <td>L</td>\n",
       "      <td>338</td>\n",
       "    </tr>\n",
       "    <tr>\n",
       "      <th>1</th>\n",
       "      <td>32006L0112</td>\n",
       "      <td>L</td>\n",
       "      <td>246</td>\n",
       "    </tr>\n",
       "    <tr>\n",
       "      <th>2</th>\n",
       "      <td>31971R1408</td>\n",
       "      <td>R</td>\n",
       "      <td>234</td>\n",
       "    </tr>\n",
       "    <tr>\n",
       "      <th>3</th>\n",
       "      <td>32009R0207</td>\n",
       "      <td>R</td>\n",
       "      <td>223</td>\n",
       "    </tr>\n",
       "    <tr>\n",
       "      <th>4</th>\n",
       "      <td>31994R0040</td>\n",
       "      <td>R</td>\n",
       "      <td>161</td>\n",
       "    </tr>\n",
       "    <tr>\n",
       "      <th>5</th>\n",
       "      <td>32003R0001</td>\n",
       "      <td>R</td>\n",
       "      <td>94</td>\n",
       "    </tr>\n",
       "    <tr>\n",
       "      <th>6</th>\n",
       "      <td>31968R1612</td>\n",
       "      <td>R</td>\n",
       "      <td>86</td>\n",
       "    </tr>\n",
       "    <tr>\n",
       "      <th>7</th>\n",
       "      <td>32001R0044</td>\n",
       "      <td>R</td>\n",
       "      <td>84</td>\n",
       "    </tr>\n",
       "    <tr>\n",
       "      <th>8</th>\n",
       "      <td>31968R0950</td>\n",
       "      <td>R</td>\n",
       "      <td>82</td>\n",
       "    </tr>\n",
       "    <tr>\n",
       "      <th>9</th>\n",
       "      <td>32004L0018</td>\n",
       "      <td>L</td>\n",
       "      <td>73</td>\n",
       "    </tr>\n",
       "  </tbody>\n",
       "</table>\n",
       "</div>"
      ],
      "text/plain": [
       "       law_id law_type  cases\n",
       "0  31977L0388        L    338\n",
       "1  32006L0112        L    246\n",
       "2  31971R1408        R    234\n",
       "3  32009R0207        R    223\n",
       "4  31994R0040        R    161\n",
       "5  32003R0001        R     94\n",
       "6  31968R1612        R     86\n",
       "7  32001R0044        R     84\n",
       "8  31968R0950        R     82\n",
       "9  32004L0018        L     73"
      ]
     },
     "execution_count": 10,
     "metadata": {},
     "output_type": "execute_result"
    }
   ],
   "source": [
    "laws_count.head(10)"
   ]
  },
  {
   "cell_type": "markdown",
   "metadata": {},
   "source": [
    "Top law: https://eur-lex.europa.eu/legal-content/EN/TXT/?qid=1596582952106&uri=CELEX:31977L0388\n",
    "\n",
    "        Sixth Council Directive 77/388/EEC of 17 May 1977 on the harmonization of the laws of the Member States relating to turnover taxes - Common system of value added tax: uniform basis of assessment. No longer in force, Date of end of validity: 31/12/2006; Repealed by 32006L0112 ."
   ]
  },
  {
   "cell_type": "markdown",
   "metadata": {},
   "source": [
    "### 3. How many case law refrences a legal acts need to be in the top 1%?"
   ]
  },
  {
   "cell_type": "code",
   "execution_count": 21,
   "metadata": {},
   "outputs": [
    {
     "data": {
      "text/plain": [
       "32.220000000000255"
      ]
     },
     "execution_count": 21,
     "metadata": {},
     "output_type": "execute_result"
    }
   ],
   "source": [
    "# What is the \"number of citations\"-value on which the top 10% citations will be above\n",
    "value = laws_count.cases.quantile(0.99)\n",
    "value"
   ]
  },
  {
   "cell_type": "code",
   "execution_count": 22,
   "metadata": {},
   "outputs": [
    {
     "data": {
      "text/plain": [
       "32"
      ]
     },
     "execution_count": 22,
     "metadata": {},
     "output_type": "execute_result"
    }
   ],
   "source": [
    "laws_count['top_cited'] = laws_count.cases.apply(lambda x: (1 if x > value else 0))\n",
    "laws_count.top_cited.sum()"
   ]
  },
  {
   "cell_type": "code",
   "execution_count": 23,
   "metadata": {},
   "outputs": [
    {
     "data": {
      "text/plain": [
       "<matplotlib.axes._subplots.AxesSubplot at 0x7ffb88deadd0>"
      ]
     },
     "execution_count": 23,
     "metadata": {},
     "output_type": "execute_result"
    },
    {
     "data": {
      "image/png": "[encoded data removed]",
      "text/plain": [
       "<Figure size 432x288 with 1 Axes>"
      ]
     },
     "metadata": {
      "needs_background": "light"
     },
     "output_type": "display_data"
    }
   ],
   "source": [
    "# Legal Citations distribution\n",
    "import seaborn as sns\n",
    "sns.distplot(laws_count[laws_count.top_cited == 1 ].cases)"
   ]
  },
  {
   "cell_type": "code",
   "execution_count": 29,
   "metadata": {},
   "outputs": [],
   "source": [
    "cases_laws[cases_laws.law_id.isin(list(laws_count[laws_count.top_cited == 1].law_id))].drop_duplicates(subset='case_id', keep=\"last\")\\\n",
    "    .to_csv('../datasets/top_refrenced_laws.csv')"
   ]
  },
  {
   "cell_type": "code",
   "execution_count": null,
   "metadata": {},
   "outputs": [],
   "source": []
  }
 ],
 "metadata": {
  "kernelspec": {
   "display_name": "Python 3",
   "language": "python",
   "name": "python3"
  },
  "language_info": {
   "codemirror_mode": {
    "name": "ipython",
    "version": 3
   },
   "file_extension": ".py",
   "mimetype": "text/x-python",
   "name": "python",
   "nbconvert_exporter": "python",
   "pygments_lexer": "ipython3",
   "version": "3.7.6"
  }
 },
 "nbformat": 4,
 "nbformat_minor": 4
}
