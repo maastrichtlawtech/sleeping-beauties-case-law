{
 "cells": [
  {
   "cell_type": "markdown",
   "metadata": {},
   "source": [
    "# Descriptive Statistics on Beauty Features"
   ]
  },
  {
   "cell_type": "code",
   "execution_count": 1,
   "metadata": {},
   "outputs": [],
   "source": [
    "import pandas as pd\n",
    "import json \n",
    "import seaborn as sns\n",
    "from scipy import stats"
   ]
  },
  {
   "cell_type": "code",
   "execution_count": 2,
   "metadata": {},
   "outputs": [],
   "source": [
    "with open('../sleeping_coeff/bcoefficients13358.json') as json_file: \n",
    "    data = json.load(json_file)"
   ]
  },
  {
   "cell_type": "code",
   "execution_count": 3,
   "metadata": {},
   "outputs": [],
   "source": [
    "df = pd.DataFrame(data.values(), \n",
    "                  columns=['case_id', 'bcoefficient', 'publication_year', 'total_citations', 'max_citations_in_a_year', 'max_citation_year', 'awakening_time_year', 'sleep_time_years', 'time_from_awakening_to_peak_years'])\n",
    "# time_from_awakening_to_peak_years = Number of years after publication to get to the year with maximum number of citations\n",
    "df.bcoefficient = df.bcoefficient.astype(float)\n",
    "for c in df.columns[2:]:\n",
    "    df[c] = df[c].astype(int)"
   ]
  },
  {
   "cell_type": "markdown",
   "metadata": {},
   "source": [
    "#### Variables Dependency\n",
    "- bcoefficient <- all\n",
    "- sleep_time_years <- awakening_time_year - publication_year\n",
    "- publication_year <- independent\n",
    "- total_citations <- independent\n",
    "- time_from_awakening_to_peak_years <- max_citation_year - awakening_time_year\n",
    "- max_citation_year <- independent\n",
    "- max_citations_in_a_year <- independent\n",
    "- peak_year_relative_importance <- max_citations_in_a_year / total_citations (the closest to one the more important that year was)\n",
    "- sleep_to_peak_ratio <- time_from_awakening_to_peak_years / sleep_time_years (ratio, if greater that one then it take more time for peak year than to be awakened, the closer to 0 the fastest)\n",
    "- ? Increase ratio\n",
    "- ? Decrease ratio\n",
    "- ? Peak decade"
   ]
  },
  {
   "cell_type": "code",
   "execution_count": 4,
   "metadata": {},
   "outputs": [],
   "source": [
    "df['peak_year_relative_importance'] = df['max_citations_in_a_year']/df['total_citations']\n",
    "df['sleep_to_peak_ratio'] = df['time_from_awakening_to_peak_years']/df['sleep_time_years']"
   ]
  },
  {
   "cell_type": "code",
   "execution_count": 5,
   "metadata": {},
   "outputs": [
    {
     "data": {
      "text/html": [
       "<div>\n",
       "<style scoped>\n",
       "    .dataframe tbody tr th:only-of-type {\n",
       "        vertical-align: middle;\n",
       "    }\n",
       "\n",
       "    .dataframe tbody tr th {\n",
       "        vertical-align: top;\n",
       "    }\n",
       "\n",
       "    .dataframe thead th {\n",
       "        text-align: right;\n",
       "    }\n",
       "</style>\n",
       "<table border=\"1\" class=\"dataframe\">\n",
       "  <thead>\n",
       "    <tr style=\"text-align: right;\">\n",
       "      <th></th>\n",
       "      <th>case_id</th>\n",
       "      <th>bcoefficient</th>\n",
       "      <th>publication_year</th>\n",
       "      <th>total_citations</th>\n",
       "      <th>max_citations_in_a_year</th>\n",
       "      <th>max_citation_year</th>\n",
       "      <th>awakening_time_year</th>\n",
       "      <th>sleep_time_years</th>\n",
       "      <th>time_from_awakening_to_peak_years</th>\n",
       "      <th>peak_year_relative_importance</th>\n",
       "      <th>sleep_to_peak_ratio</th>\n",
       "    </tr>\n",
       "  </thead>\n",
       "  <tbody>\n",
       "    <tr>\n",
       "      <th>0</th>\n",
       "      <td>61997CJ0147</td>\n",
       "      <td>0.0</td>\n",
       "      <td>2000</td>\n",
       "      <td>1</td>\n",
       "      <td>1</td>\n",
       "      <td>2000</td>\n",
       "      <td>2000</td>\n",
       "      <td>0</td>\n",
       "      <td>0</td>\n",
       "      <td>1.000000</td>\n",
       "      <td>NaN</td>\n",
       "    </tr>\n",
       "    <tr>\n",
       "      <th>1</th>\n",
       "      <td>61995CJ0032</td>\n",
       "      <td>10.0</td>\n",
       "      <td>1996</td>\n",
       "      <td>8</td>\n",
       "      <td>2</td>\n",
       "      <td>2000</td>\n",
       "      <td>1997</td>\n",
       "      <td>1</td>\n",
       "      <td>3</td>\n",
       "      <td>0.250000</td>\n",
       "      <td>3.000000</td>\n",
       "    </tr>\n",
       "    <tr>\n",
       "      <th>2</th>\n",
       "      <td>61995CJ0067</td>\n",
       "      <td>55.0</td>\n",
       "      <td>1997</td>\n",
       "      <td>2</td>\n",
       "      <td>1</td>\n",
       "      <td>2008</td>\n",
       "      <td>2007</td>\n",
       "      <td>10</td>\n",
       "      <td>1</td>\n",
       "      <td>0.500000</td>\n",
       "      <td>0.100000</td>\n",
       "    </tr>\n",
       "    <tr>\n",
       "      <th>3</th>\n",
       "      <td>61994CJ0308</td>\n",
       "      <td>0.0</td>\n",
       "      <td>1996</td>\n",
       "      <td>0</td>\n",
       "      <td>0</td>\n",
       "      <td>1996</td>\n",
       "      <td>1996</td>\n",
       "      <td>0</td>\n",
       "      <td>0</td>\n",
       "      <td>NaN</td>\n",
       "      <td>NaN</td>\n",
       "    </tr>\n",
       "    <tr>\n",
       "      <th>4</th>\n",
       "      <td>61998CJ0285</td>\n",
       "      <td>211.0</td>\n",
       "      <td>2000</td>\n",
       "      <td>11</td>\n",
       "      <td>6</td>\n",
       "      <td>2009</td>\n",
       "      <td>2007</td>\n",
       "      <td>7</td>\n",
       "      <td>2</td>\n",
       "      <td>0.545455</td>\n",
       "      <td>0.285714</td>\n",
       "    </tr>\n",
       "  </tbody>\n",
       "</table>\n",
       "</div>"
      ],
      "text/plain": [
       "       case_id  bcoefficient  publication_year  total_citations  \\\n",
       "0  61997CJ0147           0.0              2000                1   \n",
       "1  61995CJ0032          10.0              1996                8   \n",
       "2  61995CJ0067          55.0              1997                2   \n",
       "3  61994CJ0308           0.0              1996                0   \n",
       "4  61998CJ0285         211.0              2000               11   \n",
       "\n",
       "   max_citations_in_a_year  max_citation_year  awakening_time_year  \\\n",
       "0                        1               2000                 2000   \n",
       "1                        2               2000                 1997   \n",
       "2                        1               2008                 2007   \n",
       "3                        0               1996                 1996   \n",
       "4                        6               2009                 2007   \n",
       "\n",
       "   sleep_time_years  time_from_awakening_to_peak_years  \\\n",
       "0                 0                                  0   \n",
       "1                 1                                  3   \n",
       "2                10                                  1   \n",
       "3                 0                                  0   \n",
       "4                 7                                  2   \n",
       "\n",
       "   peak_year_relative_importance  sleep_to_peak_ratio  \n",
       "0                       1.000000                  NaN  \n",
       "1                       0.250000             3.000000  \n",
       "2                       0.500000             0.100000  \n",
       "3                            NaN                  NaN  \n",
       "4                       0.545455             0.285714  "
      ]
     },
     "execution_count": 5,
     "metadata": {},
     "output_type": "execute_result"
    }
   ],
   "source": [
    "df.head()"
   ]
  },
  {
   "cell_type": "markdown",
   "metadata": {},
   "source": [
    "---\n",
    "# The total of citations"
   ]
  },
  {
   "cell_type": "markdown",
   "metadata": {},
   "source": [
    "The beauty coefficient and the calculation of sleep time are dependent on citations, therefore we only account cases with at least one citation"
   ]
  },
  {
   "cell_type": "code",
   "execution_count": 6,
   "metadata": {},
   "outputs": [
    {
     "name": "stderr",
     "output_type": "stream",
     "text": [
      "/Users/pedrohserrano/opt/anaconda3/lib/python3.7/site-packages/numpy/lib/function_base.py:3942: RuntimeWarning: invalid value encountered in multiply\n",
      "  x2 = take(ap, indices_above, axis=axis) * weights_above\n"
     ]
    },
    {
     "data": {
      "text/html": [
       "<div>\n",
       "<style scoped>\n",
       "    .dataframe tbody tr th:only-of-type {\n",
       "        vertical-align: middle;\n",
       "    }\n",
       "\n",
       "    .dataframe tbody tr th {\n",
       "        vertical-align: top;\n",
       "    }\n",
       "\n",
       "    .dataframe thead th {\n",
       "        text-align: right;\n",
       "    }\n",
       "</style>\n",
       "<table border=\"1\" class=\"dataframe\">\n",
       "  <thead>\n",
       "    <tr style=\"text-align: right;\">\n",
       "      <th></th>\n",
       "      <th>bcoefficient</th>\n",
       "      <th>publication_year</th>\n",
       "      <th>total_citations</th>\n",
       "      <th>max_citations_in_a_year</th>\n",
       "      <th>max_citation_year</th>\n",
       "      <th>awakening_time_year</th>\n",
       "      <th>sleep_time_years</th>\n",
       "      <th>time_from_awakening_to_peak_years</th>\n",
       "      <th>peak_year_relative_importance</th>\n",
       "      <th>sleep_to_peak_ratio</th>\n",
       "    </tr>\n",
       "  </thead>\n",
       "  <tbody>\n",
       "    <tr>\n",
       "      <th>count</th>\n",
       "      <td>8979.000000</td>\n",
       "      <td>8979.000000</td>\n",
       "      <td>8979.000000</td>\n",
       "      <td>8979.000000</td>\n",
       "      <td>8979.000000</td>\n",
       "      <td>8979.000000</td>\n",
       "      <td>8979.000000</td>\n",
       "      <td>8979.000000</td>\n",
       "      <td>8979.000000</td>\n",
       "      <td>7521.000000</td>\n",
       "    </tr>\n",
       "    <tr>\n",
       "      <th>mean</th>\n",
       "      <td>46.051153</td>\n",
       "      <td>2000.421428</td>\n",
       "      <td>4.765898</td>\n",
       "      <td>1.745851</td>\n",
       "      <td>2004.913799</td>\n",
       "      <td>2003.973382</td>\n",
       "      <td>3.551955</td>\n",
       "      <td>0.940417</td>\n",
       "      <td>0.545945</td>\n",
       "      <td>inf</td>\n",
       "    </tr>\n",
       "    <tr>\n",
       "      <th>std</th>\n",
       "      <td>174.232056</td>\n",
       "      <td>12.712683</td>\n",
       "      <td>5.859097</td>\n",
       "      <td>1.350397</td>\n",
       "      <td>10.643870</td>\n",
       "      <td>10.672741</td>\n",
       "      <td>6.220860</td>\n",
       "      <td>0.583153</td>\n",
       "      <td>0.315054</td>\n",
       "      <td>NaN</td>\n",
       "    </tr>\n",
       "    <tr>\n",
       "      <th>min</th>\n",
       "      <td>0.000000</td>\n",
       "      <td>1954.000000</td>\n",
       "      <td>1.000000</td>\n",
       "      <td>0.000000</td>\n",
       "      <td>1955.000000</td>\n",
       "      <td>1955.000000</td>\n",
       "      <td>0.000000</td>\n",
       "      <td>0.000000</td>\n",
       "      <td>0.000000</td>\n",
       "      <td>0.018519</td>\n",
       "    </tr>\n",
       "    <tr>\n",
       "      <th>25%</th>\n",
       "      <td>0.000000</td>\n",
       "      <td>1992.000000</td>\n",
       "      <td>1.000000</td>\n",
       "      <td>1.000000</td>\n",
       "      <td>1998.000000</td>\n",
       "      <td>1997.000000</td>\n",
       "      <td>0.000000</td>\n",
       "      <td>1.000000</td>\n",
       "      <td>0.300000</td>\n",
       "      <td>0.200000</td>\n",
       "    </tr>\n",
       "    <tr>\n",
       "      <th>50%</th>\n",
       "      <td>1.000000</td>\n",
       "      <td>2003.000000</td>\n",
       "      <td>3.000000</td>\n",
       "      <td>1.000000</td>\n",
       "      <td>2008.000000</td>\n",
       "      <td>2007.000000</td>\n",
       "      <td>1.000000</td>\n",
       "      <td>1.000000</td>\n",
       "      <td>0.500000</td>\n",
       "      <td>0.500000</td>\n",
       "    </tr>\n",
       "    <tr>\n",
       "      <th>75%</th>\n",
       "      <td>16.833333</td>\n",
       "      <td>2011.000000</td>\n",
       "      <td>6.000000</td>\n",
       "      <td>2.000000</td>\n",
       "      <td>2014.000000</td>\n",
       "      <td>2013.000000</td>\n",
       "      <td>4.000000</td>\n",
       "      <td>1.000000</td>\n",
       "      <td>1.000000</td>\n",
       "      <td>NaN</td>\n",
       "    </tr>\n",
       "    <tr>\n",
       "      <th>max</th>\n",
       "      <td>4709.500000</td>\n",
       "      <td>2018.000000</td>\n",
       "      <td>118.000000</td>\n",
       "      <td>17.000000</td>\n",
       "      <td>2019.000000</td>\n",
       "      <td>2018.000000</td>\n",
       "      <td>55.000000</td>\n",
       "      <td>8.000000</td>\n",
       "      <td>1.000000</td>\n",
       "      <td>inf</td>\n",
       "    </tr>\n",
       "  </tbody>\n",
       "</table>\n",
       "</div>"
      ],
      "text/plain": [
       "       bcoefficient  publication_year  total_citations  \\\n",
       "count   8979.000000       8979.000000      8979.000000   \n",
       "mean      46.051153       2000.421428         4.765898   \n",
       "std      174.232056         12.712683         5.859097   \n",
       "min        0.000000       1954.000000         1.000000   \n",
       "25%        0.000000       1992.000000         1.000000   \n",
       "50%        1.000000       2003.000000         3.000000   \n",
       "75%       16.833333       2011.000000         6.000000   \n",
       "max     4709.500000       2018.000000       118.000000   \n",
       "\n",
       "       max_citations_in_a_year  max_citation_year  awakening_time_year  \\\n",
       "count              8979.000000        8979.000000          8979.000000   \n",
       "mean                  1.745851        2004.913799          2003.973382   \n",
       "std                   1.350397          10.643870            10.672741   \n",
       "min                   0.000000        1955.000000          1955.000000   \n",
       "25%                   1.000000        1998.000000          1997.000000   \n",
       "50%                   1.000000        2008.000000          2007.000000   \n",
       "75%                   2.000000        2014.000000          2013.000000   \n",
       "max                  17.000000        2019.000000          2018.000000   \n",
       "\n",
       "       sleep_time_years  time_from_awakening_to_peak_years  \\\n",
       "count       8979.000000                        8979.000000   \n",
       "mean           3.551955                           0.940417   \n",
       "std            6.220860                           0.583153   \n",
       "min            0.000000                           0.000000   \n",
       "25%            0.000000                           1.000000   \n",
       "50%            1.000000                           1.000000   \n",
       "75%            4.000000                           1.000000   \n",
       "max           55.000000                           8.000000   \n",
       "\n",
       "       peak_year_relative_importance  sleep_to_peak_ratio  \n",
       "count                    8979.000000          7521.000000  \n",
       "mean                        0.545945                  inf  \n",
       "std                         0.315054                  NaN  \n",
       "min                         0.000000             0.018519  \n",
       "25%                         0.300000             0.200000  \n",
       "50%                         0.500000             0.500000  \n",
       "75%                         1.000000                  NaN  \n",
       "max                         1.000000                  inf  "
      ]
     },
     "execution_count": 6,
     "metadata": {},
     "output_type": "execute_result"
    }
   ],
   "source": [
    "#Accounting only cited cases\n",
    "df = df[df.total_citations != 0]\n",
    "df.describe()"
   ]
  },
  {
   "cell_type": "code",
   "execution_count": 7,
   "metadata": {},
   "outputs": [
    {
     "data": {
      "text/plain": [
       "<matplotlib.axes._subplots.AxesSubplot at 0x7fd0334abe50>"
      ]
     },
     "execution_count": 7,
     "metadata": {},
     "output_type": "execute_result"
    },
    {
     "data": {
      "image/png": "[encoded data removed]",
      "text/plain": [
       "<Figure size 432x288 with 1 Axes>"
      ]
     },
     "metadata": {
      "needs_background": "light"
     },
     "output_type": "display_data"
    }
   ],
   "source": [
    "# Citations distribution\n",
    "sns.distplot(df.total_citations)"
   ]
  },
  {
   "cell_type": "markdown",
   "metadata": {},
   "source": [
    "Left skewed distribution"
   ]
  },
  {
   "cell_type": "markdown",
   "metadata": {},
   "source": [
    "#### 1. How many citations is needed to be in the top 10%?"
   ]
  },
  {
   "cell_type": "code",
   "execution_count": 8,
   "metadata": {},
   "outputs": [
    {
     "data": {
      "text/plain": [
       "10.0"
      ]
     },
     "execution_count": 8,
     "metadata": {},
     "output_type": "execute_result"
    }
   ],
   "source": [
    "# What is the \"number of citations\"-value on which the top 10% citations will be above\n",
    "value = df.total_citations.quantile(0.90)\n",
    "value"
   ]
  },
  {
   "cell_type": "code",
   "execution_count": 9,
   "metadata": {},
   "outputs": [
    {
     "data": {
      "text/plain": [
       "870"
      ]
     },
     "execution_count": 9,
     "metadata": {},
     "output_type": "execute_result"
    }
   ],
   "source": [
    "df['top_cited'] = df.total_citations.apply(lambda x: (1 if x > value else 0))\n",
    "df.top_cited.sum()"
   ]
  },
  {
   "cell_type": "markdown",
   "metadata": {},
   "source": [
    "#### 2. How many citations in average a case has from the top 10%?"
   ]
  },
  {
   "cell_type": "code",
   "execution_count": 10,
   "metadata": {},
   "outputs": [
    {
     "data": {
      "text/plain": [
       "18.27816091954023"
      ]
     },
     "execution_count": 10,
     "metadata": {},
     "output_type": "execute_result"
    }
   ],
   "source": [
    "df[df.top_cited == 1].total_citations.mean()"
   ]
  },
  {
   "cell_type": "markdown",
   "metadata": {},
   "source": [
    "---\n",
    "# The sleep time"
   ]
  },
  {
   "cell_type": "code",
   "execution_count": 11,
   "metadata": {},
   "outputs": [
    {
     "data": {
      "text/plain": [
       "count    8979.000000\n",
       "mean        3.551955\n",
       "std         6.220860\n",
       "min         0.000000\n",
       "25%         0.000000\n",
       "50%         1.000000\n",
       "75%         4.000000\n",
       "max        55.000000\n",
       "Name: sleep_time_years, dtype: float64"
      ]
     },
     "execution_count": 11,
     "metadata": {},
     "output_type": "execute_result"
    }
   ],
   "source": [
    "# Sleep time distribution\n",
    "df.sleep_time_years.describe()"
   ]
  },
  {
   "cell_type": "markdown",
   "metadata": {},
   "source": [
    "#### 3. What is the average sleeping time?"
   ]
  },
  {
   "cell_type": "markdown",
   "metadata": {},
   "source": [
    "A case sleeps 3.5 (6.22) years before is awakened"
   ]
  },
  {
   "cell_type": "code",
   "execution_count": 12,
   "metadata": {},
   "outputs": [
    {
     "data": {
      "text/plain": [
       "count    870.000000\n",
       "mean       4.320690\n",
       "std        6.249099\n",
       "min        0.000000\n",
       "25%        0.000000\n",
       "50%        2.000000\n",
       "75%        6.000000\n",
       "max       55.000000\n",
       "Name: sleep_time_years, dtype: float64"
      ]
     },
     "execution_count": 12,
     "metadata": {},
     "output_type": "execute_result"
    }
   ],
   "source": [
    "df[df.top_cited == 1].sleep_time_years.describe()"
   ]
  },
  {
   "cell_type": "markdown",
   "metadata": {},
   "source": [
    "A case in the top 10% sleeps 4.3 (6.22) years before is awakened"
   ]
  },
  {
   "cell_type": "markdown",
   "metadata": {},
   "source": [
    "#### 4. Is there a difference on the sleeping time between top cited cases and non-top cited cases?"
   ]
  },
  {
   "cell_type": "code",
   "execution_count": 20,
   "metadata": {},
   "outputs": [],
   "source": [
    "number_top_cited = len(df[df.top_cited == 1])\n",
    "df_non_top_sample = df[df.top_cited == 0].sample(n=number_top_cited, random_state=127365)\n",
    "df_top_cited = df[df.top_cited ==1 ]"
   ]
  },
  {
   "cell_type": "code",
   "execution_count": 21,
   "metadata": {},
   "outputs": [
    {
     "name": "stdout",
     "output_type": "stream",
     "text": [
      "Average Sleeping time in years \n",
      " Top cited cases: 3.42 (SD 6.23) \n",
      " Non-Top cited cases: 4.32 (SD 6.25)\n"
     ]
    }
   ],
   "source": [
    "print('Average Sleeping time in years \\n Top cited cases: {} (SD {}) \\n Non-Top cited cases: {} (SD {})'.format(\n",
    "    round(df_non_top_sample.sleep_time_years.mean(),2), round(df_non_top_sample.sleep_time_years.std(),2), \n",
    "    round(df_top_cited.sleep_time_years.mean(),2), round(df_top_cited.sleep_time_years.std(),2))) "
   ]
  },
  {
   "cell_type": "code",
   "execution_count": 22,
   "metadata": {},
   "outputs": [
    {
     "data": {
      "text/plain": [
       "Ttest_indResult(statistic=-3.0130406707342736, pvalue=0.002623814832847893)"
      ]
     },
     "execution_count": 22,
     "metadata": {},
     "output_type": "execute_result"
    }
   ],
   "source": [
    "#T-test with different means, variance, and n: for Difference of Groups\n",
    "# H0: μ1 - μ2 < d\n",
    "stats.ttest_ind(df_non_top_sample.sleep_time_years, df_top_cited.sleep_time_years, equal_var = False)"
   ]
  },
  {
   "cell_type": "markdown",
   "metadata": {},
   "source": [
    "*Since p is less than 0.05 then H0 is rejected, therefore there is no evidence that the means of the two samples are equal, it means that sleeping time can be less for top cited cases*   \n",
    "**Yes (the quicker awakening the higher the chances to be high cited?)**"
   ]
  },
  {
   "cell_type": "markdown",
   "metadata": {},
   "source": [
    "#### 4. Which are the cases with the longer sleep time?"
   ]
  },
  {
   "cell_type": "code",
   "execution_count": 23,
   "metadata": {},
   "outputs": [
    {
     "data": {
      "text/html": [
       "<div>\n",
       "<style scoped>\n",
       "    .dataframe tbody tr th:only-of-type {\n",
       "        vertical-align: middle;\n",
       "    }\n",
       "\n",
       "    .dataframe tbody tr th {\n",
       "        vertical-align: top;\n",
       "    }\n",
       "\n",
       "    .dataframe thead th {\n",
       "        text-align: right;\n",
       "    }\n",
       "</style>\n",
       "<table border=\"1\" class=\"dataframe\">\n",
       "  <thead>\n",
       "    <tr style=\"text-align: right;\">\n",
       "      <th></th>\n",
       "      <th>case_id</th>\n",
       "      <th>bcoefficient</th>\n",
       "      <th>publication_year</th>\n",
       "      <th>total_citations</th>\n",
       "      <th>max_citations_in_a_year</th>\n",
       "      <th>max_citation_year</th>\n",
       "      <th>awakening_time_year</th>\n",
       "      <th>sleep_time_years</th>\n",
       "      <th>time_from_awakening_to_peak_years</th>\n",
       "      <th>peak_year_relative_importance</th>\n",
       "      <th>sleep_to_peak_ratio</th>\n",
       "      <th>top_cited</th>\n",
       "    </tr>\n",
       "  </thead>\n",
       "  <tbody>\n",
       "    <tr>\n",
       "      <th>7489</th>\n",
       "      <td>61956CJ0009</td>\n",
       "      <td>4709.5</td>\n",
       "      <td>1958</td>\n",
       "      <td>12</td>\n",
       "      <td>3</td>\n",
       "      <td>2015</td>\n",
       "      <td>2013</td>\n",
       "      <td>55</td>\n",
       "      <td>2</td>\n",
       "      <td>0.250000</td>\n",
       "      <td>0.036364</td>\n",
       "      <td>1</td>\n",
       "    </tr>\n",
       "    <tr>\n",
       "      <th>4831</th>\n",
       "      <td>61960CJ0006</td>\n",
       "      <td>2965.0</td>\n",
       "      <td>1960</td>\n",
       "      <td>7</td>\n",
       "      <td>2</td>\n",
       "      <td>2015</td>\n",
       "      <td>2014</td>\n",
       "      <td>54</td>\n",
       "      <td>1</td>\n",
       "      <td>0.285714</td>\n",
       "      <td>0.018519</td>\n",
       "      <td>0</td>\n",
       "    </tr>\n",
       "    <tr>\n",
       "      <th>4852</th>\n",
       "      <td>61958CJ0019</td>\n",
       "      <td>1326.0</td>\n",
       "      <td>1960</td>\n",
       "      <td>1</td>\n",
       "      <td>1</td>\n",
       "      <td>2012</td>\n",
       "      <td>2011</td>\n",
       "      <td>51</td>\n",
       "      <td>1</td>\n",
       "      <td>1.000000</td>\n",
       "      <td>0.019608</td>\n",
       "      <td>0</td>\n",
       "    </tr>\n",
       "    <tr>\n",
       "      <th>4851</th>\n",
       "      <td>61958CJ0003</td>\n",
       "      <td>1326.0</td>\n",
       "      <td>1960</td>\n",
       "      <td>1</td>\n",
       "      <td>1</td>\n",
       "      <td>2012</td>\n",
       "      <td>2011</td>\n",
       "      <td>51</td>\n",
       "      <td>1</td>\n",
       "      <td>1.000000</td>\n",
       "      <td>0.019608</td>\n",
       "      <td>0</td>\n",
       "    </tr>\n",
       "    <tr>\n",
       "      <th>4840</th>\n",
       "      <td>61963CJ0069</td>\n",
       "      <td>1326.0</td>\n",
       "      <td>1964</td>\n",
       "      <td>1</td>\n",
       "      <td>1</td>\n",
       "      <td>2016</td>\n",
       "      <td>2015</td>\n",
       "      <td>51</td>\n",
       "      <td>1</td>\n",
       "      <td>1.000000</td>\n",
       "      <td>0.019608</td>\n",
       "      <td>0</td>\n",
       "    </tr>\n",
       "    <tr>\n",
       "      <th>12006</th>\n",
       "      <td>61965CO0025</td>\n",
       "      <td>1225.0</td>\n",
       "      <td>1967</td>\n",
       "      <td>1</td>\n",
       "      <td>1</td>\n",
       "      <td>2017</td>\n",
       "      <td>2016</td>\n",
       "      <td>49</td>\n",
       "      <td>1</td>\n",
       "      <td>1.000000</td>\n",
       "      <td>0.020408</td>\n",
       "      <td>0</td>\n",
       "    </tr>\n",
       "    <tr>\n",
       "      <th>2362</th>\n",
       "      <td>61965CJ0051</td>\n",
       "      <td>1176.0</td>\n",
       "      <td>1966</td>\n",
       "      <td>1</td>\n",
       "      <td>1</td>\n",
       "      <td>2015</td>\n",
       "      <td>2014</td>\n",
       "      <td>48</td>\n",
       "      <td>1</td>\n",
       "      <td>1.000000</td>\n",
       "      <td>0.020833</td>\n",
       "      <td>0</td>\n",
       "    </tr>\n",
       "    <tr>\n",
       "      <th>4847</th>\n",
       "      <td>61960CJ0025</td>\n",
       "      <td>1081.0</td>\n",
       "      <td>1962</td>\n",
       "      <td>1</td>\n",
       "      <td>1</td>\n",
       "      <td>2009</td>\n",
       "      <td>2008</td>\n",
       "      <td>46</td>\n",
       "      <td>1</td>\n",
       "      <td>1.000000</td>\n",
       "      <td>0.021739</td>\n",
       "      <td>0</td>\n",
       "    </tr>\n",
       "    <tr>\n",
       "      <th>2351</th>\n",
       "      <td>61967CJ0005</td>\n",
       "      <td>1081.0</td>\n",
       "      <td>1968</td>\n",
       "      <td>1</td>\n",
       "      <td>1</td>\n",
       "      <td>2015</td>\n",
       "      <td>2014</td>\n",
       "      <td>46</td>\n",
       "      <td>1</td>\n",
       "      <td>1.000000</td>\n",
       "      <td>0.021739</td>\n",
       "      <td>0</td>\n",
       "    </tr>\n",
       "    <tr>\n",
       "      <th>4778</th>\n",
       "      <td>61962CJ0036</td>\n",
       "      <td>1035.0</td>\n",
       "      <td>1963</td>\n",
       "      <td>1</td>\n",
       "      <td>1</td>\n",
       "      <td>2009</td>\n",
       "      <td>2008</td>\n",
       "      <td>45</td>\n",
       "      <td>1</td>\n",
       "      <td>1.000000</td>\n",
       "      <td>0.022222</td>\n",
       "      <td>0</td>\n",
       "    </tr>\n",
       "  </tbody>\n",
       "</table>\n",
       "</div>"
      ],
      "text/plain": [
       "           case_id  bcoefficient  publication_year  total_citations  \\\n",
       "7489   61956CJ0009        4709.5              1958               12   \n",
       "4831   61960CJ0006        2965.0              1960                7   \n",
       "4852   61958CJ0019        1326.0              1960                1   \n",
       "4851   61958CJ0003        1326.0              1960                1   \n",
       "4840   61963CJ0069        1326.0              1964                1   \n",
       "12006  61965CO0025        1225.0              1967                1   \n",
       "2362   61965CJ0051        1176.0              1966                1   \n",
       "4847   61960CJ0025        1081.0              1962                1   \n",
       "2351   61967CJ0005        1081.0              1968                1   \n",
       "4778   61962CJ0036        1035.0              1963                1   \n",
       "\n",
       "       max_citations_in_a_year  max_citation_year  awakening_time_year  \\\n",
       "7489                         3               2015                 2013   \n",
       "4831                         2               2015                 2014   \n",
       "4852                         1               2012                 2011   \n",
       "4851                         1               2012                 2011   \n",
       "4840                         1               2016                 2015   \n",
       "12006                        1               2017                 2016   \n",
       "2362                         1               2015                 2014   \n",
       "4847                         1               2009                 2008   \n",
       "2351                         1               2015                 2014   \n",
       "4778                         1               2009                 2008   \n",
       "\n",
       "       sleep_time_years  time_from_awakening_to_peak_years  \\\n",
       "7489                 55                                  2   \n",
       "4831                 54                                  1   \n",
       "4852                 51                                  1   \n",
       "4851                 51                                  1   \n",
       "4840                 51                                  1   \n",
       "12006                49                                  1   \n",
       "2362                 48                                  1   \n",
       "4847                 46                                  1   \n",
       "2351                 46                                  1   \n",
       "4778                 45                                  1   \n",
       "\n",
       "       peak_year_relative_importance  sleep_to_peak_ratio  top_cited  \n",
       "7489                        0.250000             0.036364          1  \n",
       "4831                        0.285714             0.018519          0  \n",
       "4852                        1.000000             0.019608          0  \n",
       "4851                        1.000000             0.019608          0  \n",
       "4840                        1.000000             0.019608          0  \n",
       "12006                       1.000000             0.020408          0  \n",
       "2362                        1.000000             0.020833          0  \n",
       "4847                        1.000000             0.021739          0  \n",
       "2351                        1.000000             0.021739          0  \n",
       "4778                        1.000000             0.022222          0  "
      ]
     },
     "execution_count": 23,
     "metadata": {},
     "output_type": "execute_result"
    }
   ],
   "source": [
    "df.sort_values(by='sleep_time_years', ascending =False).head(10)"
   ]
  },
  {
   "cell_type": "markdown",
   "metadata": {},
   "source": [
    "*The case with max sleep time is 55 years making a total of 12 citations after all*  \n",
    "Top lazy case: https://eur-lex.europa.eu/legal-content/EN/TXT/?qid=1594566429905&uri=CELEX:61956CJ0009\n",
    "\n",
    "    Judgment of the Court of 13 June 1958. \n",
    "    Meroni & Co., Industrie Metallurgiche, SpA v High Authority of the European Coal and Steel Community. \n",
    "    Case 9-56."
   ]
  },
  {
   "cell_type": "markdown",
   "metadata": {},
   "source": [
    "#### 5. What are the years with more awakenings?"
   ]
  },
  {
   "cell_type": "code",
   "execution_count": 24,
   "metadata": {},
   "outputs": [
    {
     "data": {
      "text/html": [
       "<div>\n",
       "<style scoped>\n",
       "    .dataframe tbody tr th:only-of-type {\n",
       "        vertical-align: middle;\n",
       "    }\n",
       "\n",
       "    .dataframe tbody tr th {\n",
       "        vertical-align: top;\n",
       "    }\n",
       "\n",
       "    .dataframe thead th {\n",
       "        text-align: right;\n",
       "    }\n",
       "</style>\n",
       "<table border=\"1\" class=\"dataframe\">\n",
       "  <thead>\n",
       "    <tr style=\"text-align: right;\">\n",
       "      <th></th>\n",
       "      <th>awakening_time_year</th>\n",
       "      <th>cases</th>\n",
       "    </tr>\n",
       "  </thead>\n",
       "  <tbody>\n",
       "    <tr>\n",
       "      <th>0</th>\n",
       "      <td>2016</td>\n",
       "      <td>504</td>\n",
       "    </tr>\n",
       "    <tr>\n",
       "      <th>1</th>\n",
       "      <td>2012</td>\n",
       "      <td>490</td>\n",
       "    </tr>\n",
       "    <tr>\n",
       "      <th>2</th>\n",
       "      <td>2015</td>\n",
       "      <td>477</td>\n",
       "    </tr>\n",
       "    <tr>\n",
       "      <th>3</th>\n",
       "      <td>2014</td>\n",
       "      <td>473</td>\n",
       "    </tr>\n",
       "    <tr>\n",
       "      <th>4</th>\n",
       "      <td>2013</td>\n",
       "      <td>470</td>\n",
       "    </tr>\n",
       "    <tr>\n",
       "      <th>5</th>\n",
       "      <td>2011</td>\n",
       "      <td>398</td>\n",
       "    </tr>\n",
       "    <tr>\n",
       "      <th>6</th>\n",
       "      <td>2008</td>\n",
       "      <td>384</td>\n",
       "    </tr>\n",
       "    <tr>\n",
       "      <th>7</th>\n",
       "      <td>2010</td>\n",
       "      <td>349</td>\n",
       "    </tr>\n",
       "    <tr>\n",
       "      <th>8</th>\n",
       "      <td>2009</td>\n",
       "      <td>345</td>\n",
       "    </tr>\n",
       "    <tr>\n",
       "      <th>9</th>\n",
       "      <td>2006</td>\n",
       "      <td>332</td>\n",
       "    </tr>\n",
       "    <tr>\n",
       "      <th>10</th>\n",
       "      <td>2005</td>\n",
       "      <td>292</td>\n",
       "    </tr>\n",
       "    <tr>\n",
       "      <th>11</th>\n",
       "      <td>2017</td>\n",
       "      <td>290</td>\n",
       "    </tr>\n",
       "    <tr>\n",
       "      <th>12</th>\n",
       "      <td>2007</td>\n",
       "      <td>281</td>\n",
       "    </tr>\n",
       "    <tr>\n",
       "      <th>13</th>\n",
       "      <td>2004</td>\n",
       "      <td>265</td>\n",
       "    </tr>\n",
       "    <tr>\n",
       "      <th>14</th>\n",
       "      <td>2002</td>\n",
       "      <td>245</td>\n",
       "    </tr>\n",
       "  </tbody>\n",
       "</table>\n",
       "</div>"
      ],
      "text/plain": [
       "    awakening_time_year  cases\n",
       "0                  2016    504\n",
       "1                  2012    490\n",
       "2                  2015    477\n",
       "3                  2014    473\n",
       "4                  2013    470\n",
       "5                  2011    398\n",
       "6                  2008    384\n",
       "7                  2010    349\n",
       "8                  2009    345\n",
       "9                  2006    332\n",
       "10                 2005    292\n",
       "11                 2017    290\n",
       "12                 2007    281\n",
       "13                 2004    265\n",
       "14                 2002    245"
      ]
     },
     "execution_count": 24,
     "metadata": {},
     "output_type": "execute_result"
    }
   ],
   "source": [
    "df.groupby('awakening_time_year')\\\n",
    "    .count()['case_id']\\\n",
    "    .sort_values(ascending=False)\\\n",
    "    .reset_index()\\\n",
    "    .rename(columns={'case_id':'cases'})\\\n",
    "    .head(15)"
   ]
  },
  {
   "cell_type": "markdown",
   "metadata": {},
   "source": [
    "The very last decade reports the most awakenings"
   ]
  },
  {
   "cell_type": "markdown",
   "metadata": {},
   "source": [
    "---\n",
    "# The awakened years"
   ]
  },
  {
   "cell_type": "code",
   "execution_count": 32,
   "metadata": {},
   "outputs": [
    {
     "data": {
      "text/plain": [
       "<matplotlib.axes._subplots.AxesSubplot at 0x7fd02eb3cd10>"
      ]
     },
     "execution_count": 32,
     "metadata": {},
     "output_type": "execute_result"
    },
    {
     "data": {
      "image/png": "[encoded data removed]",
      "text/plain": [
       "<Figure size 432x288 with 1 Axes>"
      ]
     },
     "metadata": {
      "needs_background": "light"
     },
     "output_type": "display_data"
    }
   ],
   "source": [
    "sns.distplot(df.time_from_awakening_to_peak_years, kde_kws={'bw':0.1})"
   ]
  },
  {
   "cell_type": "markdown",
   "metadata": {},
   "source": [
    "#### 6. What is the expected time in years to get to the most cited years after being awakened?"
   ]
  },
  {
   "cell_type": "code",
   "execution_count": 28,
   "metadata": {},
   "outputs": [
    {
     "data": {
      "text/plain": [
       "count    8979.000000\n",
       "mean        0.940417\n",
       "std         0.583153\n",
       "min         0.000000\n",
       "25%         1.000000\n",
       "50%         1.000000\n",
       "75%         1.000000\n",
       "max         8.000000\n",
       "Name: time_from_awakening_to_peak_years, dtype: float64"
      ]
     },
     "execution_count": 28,
     "metadata": {},
     "output_type": "execute_result"
    }
   ],
   "source": [
    "df.time_from_awakening_to_peak_years.describe()"
   ]
  },
  {
   "cell_type": "markdown",
   "metadata": {},
   "source": [
    "**Once a case is awakened within the first year will reach the point of highest number of citations per year.**"
   ]
  },
  {
   "cell_type": "markdown",
   "metadata": {},
   "source": [
    "#### 7. Is there a difference on the \"speed to peak\" in years between top cited cases and non-top cited cases?"
   ]
  },
  {
   "cell_type": "code",
   "execution_count": 33,
   "metadata": {},
   "outputs": [
    {
     "name": "stdout",
     "output_type": "stream",
     "text": [
      "Average Speed to peak in years \n",
      " Top cited cases: 0.88 (SD 0.45) \n",
      " Non-Top cited cases: 1.39 (SD 1.0)\n"
     ]
    }
   ],
   "source": [
    "print('Average Speed to peak in years \\n Top cited cases: {} (SD {}) \\n Non-Top cited cases: {} (SD {})'.format(\n",
    "    round(df_non_top_sample.time_from_awakening_to_peak_years.mean(),2), round(df_non_top_sample.time_from_awakening_to_peak_years.std(),2), \n",
    "    round(df_top_cited.time_from_awakening_to_peak_years.mean(),2), round(df_top_cited.time_from_awakening_to_peak_years.std(),2))) "
   ]
  },
  {
   "cell_type": "code",
   "execution_count": 34,
   "metadata": {},
   "outputs": [
    {
     "data": {
      "text/plain": [
       "Ttest_indResult(statistic=-13.637980066476482, pvalue=1.6842927052669453e-39)"
      ]
     },
     "execution_count": 34,
     "metadata": {},
     "output_type": "execute_result"
    }
   ],
   "source": [
    "#T-test with different means, variance, and n: for Difference of Groups\n",
    "# H0: μ1 - μ2 < d\n",
    "stats.ttest_ind(df_non_top_sample.time_from_awakening_to_peak_years, df_top_cited.time_from_awakening_to_peak_years, equal_var = False)"
   ]
  },
  {
   "cell_type": "markdown",
   "metadata": {},
   "source": [
    "*Since p is less than 0.05 then H0 is rejected, therefore there is no evidence that the means of the two samples are equal (the means are statistically different)*   \n",
    "**Yes (an intuitive result - the more gets cited the quicker it gets to its peak)**"
   ]
  },
  {
   "cell_type": "code",
   "execution_count": 36,
   "metadata": {},
   "outputs": [
    {
     "data": {
      "text/plain": [
       "count    8979.000000\n",
       "mean        0.545945\n",
       "std         0.315054\n",
       "min         0.000000\n",
       "25%         0.300000\n",
       "50%         0.500000\n",
       "75%         1.000000\n",
       "max         1.000000\n",
       "Name: peak_year_relative_importance, dtype: float64"
      ]
     },
     "execution_count": 36,
     "metadata": {},
     "output_type": "execute_result"
    }
   ],
   "source": [
    "df.peak_year_relative_importance.describe()"
   ]
  },
  {
   "cell_type": "code",
   "execution_count": 42,
   "metadata": {},
   "outputs": [
    {
     "data": {
      "text/html": [
       "<div>\n",
       "<style scoped>\n",
       "    .dataframe tbody tr th:only-of-type {\n",
       "        vertical-align: middle;\n",
       "    }\n",
       "\n",
       "    .dataframe tbody tr th {\n",
       "        vertical-align: top;\n",
       "    }\n",
       "\n",
       "    .dataframe thead th {\n",
       "        text-align: right;\n",
       "    }\n",
       "</style>\n",
       "<table border=\"1\" class=\"dataframe\">\n",
       "  <thead>\n",
       "    <tr style=\"text-align: right;\">\n",
       "      <th></th>\n",
       "      <th>case_id</th>\n",
       "      <th>bcoefficient</th>\n",
       "      <th>publication_year</th>\n",
       "      <th>total_citations</th>\n",
       "      <th>max_citations_in_a_year</th>\n",
       "      <th>max_citation_year</th>\n",
       "      <th>awakening_time_year</th>\n",
       "      <th>sleep_time_years</th>\n",
       "      <th>time_from_awakening_to_peak_years</th>\n",
       "      <th>peak_year_relative_importance</th>\n",
       "      <th>sleep_to_peak_ratio</th>\n",
       "      <th>top_cited</th>\n",
       "    </tr>\n",
       "  </thead>\n",
       "  <tbody>\n",
       "    <tr>\n",
       "      <th>6942</th>\n",
       "      <td>62007CJ0161</td>\n",
       "      <td>30.0</td>\n",
       "      <td>2008</td>\n",
       "      <td>10</td>\n",
       "      <td>10</td>\n",
       "      <td>2011</td>\n",
       "      <td>2010</td>\n",
       "      <td>2</td>\n",
       "      <td>1</td>\n",
       "      <td>1.0</td>\n",
       "      <td>0.500000</td>\n",
       "      <td>0</td>\n",
       "    </tr>\n",
       "    <tr>\n",
       "      <th>2795</th>\n",
       "      <td>62013CJ0608</td>\n",
       "      <td>0.0</td>\n",
       "      <td>2016</td>\n",
       "      <td>8</td>\n",
       "      <td>8</td>\n",
       "      <td>2017</td>\n",
       "      <td>2016</td>\n",
       "      <td>0</td>\n",
       "      <td>1</td>\n",
       "      <td>1.0</td>\n",
       "      <td>inf</td>\n",
       "      <td>0</td>\n",
       "    </tr>\n",
       "    <tr>\n",
       "      <th>2794</th>\n",
       "      <td>62013CJ0616</td>\n",
       "      <td>0.0</td>\n",
       "      <td>2016</td>\n",
       "      <td>8</td>\n",
       "      <td>8</td>\n",
       "      <td>2017</td>\n",
       "      <td>2016</td>\n",
       "      <td>0</td>\n",
       "      <td>1</td>\n",
       "      <td>1.0</td>\n",
       "      <td>inf</td>\n",
       "      <td>0</td>\n",
       "    </tr>\n",
       "    <tr>\n",
       "      <th>3815</th>\n",
       "      <td>62013CJ0531</td>\n",
       "      <td>0.0</td>\n",
       "      <td>2015</td>\n",
       "      <td>6</td>\n",
       "      <td>6</td>\n",
       "      <td>2016</td>\n",
       "      <td>2015</td>\n",
       "      <td>0</td>\n",
       "      <td>1</td>\n",
       "      <td>1.0</td>\n",
       "      <td>inf</td>\n",
       "      <td>0</td>\n",
       "    </tr>\n",
       "    <tr>\n",
       "      <th>4355</th>\n",
       "      <td>61995CJ0247</td>\n",
       "      <td>18.0</td>\n",
       "      <td>1997</td>\n",
       "      <td>6</td>\n",
       "      <td>6</td>\n",
       "      <td>2000</td>\n",
       "      <td>1999</td>\n",
       "      <td>2</td>\n",
       "      <td>1</td>\n",
       "      <td>1.0</td>\n",
       "      <td>0.500000</td>\n",
       "      <td>0</td>\n",
       "    </tr>\n",
       "    <tr>\n",
       "      <th>1794</th>\n",
       "      <td>61983CJ0049</td>\n",
       "      <td>546.0</td>\n",
       "      <td>1984</td>\n",
       "      <td>6</td>\n",
       "      <td>6</td>\n",
       "      <td>1998</td>\n",
       "      <td>1997</td>\n",
       "      <td>13</td>\n",
       "      <td>1</td>\n",
       "      <td>1.0</td>\n",
       "      <td>0.076923</td>\n",
       "      <td>0</td>\n",
       "    </tr>\n",
       "    <tr>\n",
       "      <th>1372</th>\n",
       "      <td>61985CJ0348</td>\n",
       "      <td>275.0</td>\n",
       "      <td>1987</td>\n",
       "      <td>5</td>\n",
       "      <td>5</td>\n",
       "      <td>1998</td>\n",
       "      <td>1997</td>\n",
       "      <td>10</td>\n",
       "      <td>1</td>\n",
       "      <td>1.0</td>\n",
       "      <td>0.100000</td>\n",
       "      <td>0</td>\n",
       "    </tr>\n",
       "    <tr>\n",
       "      <th>9201</th>\n",
       "      <td>61999CJ0266</td>\n",
       "      <td>0.0</td>\n",
       "      <td>2001</td>\n",
       "      <td>5</td>\n",
       "      <td>5</td>\n",
       "      <td>2001</td>\n",
       "      <td>2001</td>\n",
       "      <td>0</td>\n",
       "      <td>0</td>\n",
       "      <td>1.0</td>\n",
       "      <td>NaN</td>\n",
       "      <td>0</td>\n",
       "    </tr>\n",
       "    <tr>\n",
       "      <th>11583</th>\n",
       "      <td>62016CO0240</td>\n",
       "      <td>0.0</td>\n",
       "      <td>2017</td>\n",
       "      <td>4</td>\n",
       "      <td>4</td>\n",
       "      <td>2017</td>\n",
       "      <td>2017</td>\n",
       "      <td>0</td>\n",
       "      <td>0</td>\n",
       "      <td>1.0</td>\n",
       "      <td>NaN</td>\n",
       "      <td>0</td>\n",
       "    </tr>\n",
       "    <tr>\n",
       "      <th>508</th>\n",
       "      <td>62004CJ0408</td>\n",
       "      <td>112.0</td>\n",
       "      <td>2008</td>\n",
       "      <td>4</td>\n",
       "      <td>4</td>\n",
       "      <td>2016</td>\n",
       "      <td>2015</td>\n",
       "      <td>7</td>\n",
       "      <td>1</td>\n",
       "      <td>1.0</td>\n",
       "      <td>0.142857</td>\n",
       "      <td>0</td>\n",
       "    </tr>\n",
       "  </tbody>\n",
       "</table>\n",
       "</div>"
      ],
      "text/plain": [
       "           case_id  bcoefficient  publication_year  total_citations  \\\n",
       "6942   62007CJ0161          30.0              2008               10   \n",
       "2795   62013CJ0608           0.0              2016                8   \n",
       "2794   62013CJ0616           0.0              2016                8   \n",
       "3815   62013CJ0531           0.0              2015                6   \n",
       "4355   61995CJ0247          18.0              1997                6   \n",
       "1794   61983CJ0049         546.0              1984                6   \n",
       "1372   61985CJ0348         275.0              1987                5   \n",
       "9201   61999CJ0266           0.0              2001                5   \n",
       "11583  62016CO0240           0.0              2017                4   \n",
       "508    62004CJ0408         112.0              2008                4   \n",
       "\n",
       "       max_citations_in_a_year  max_citation_year  awakening_time_year  \\\n",
       "6942                        10               2011                 2010   \n",
       "2795                         8               2017                 2016   \n",
       "2794                         8               2017                 2016   \n",
       "3815                         6               2016                 2015   \n",
       "4355                         6               2000                 1999   \n",
       "1794                         6               1998                 1997   \n",
       "1372                         5               1998                 1997   \n",
       "9201                         5               2001                 2001   \n",
       "11583                        4               2017                 2017   \n",
       "508                          4               2016                 2015   \n",
       "\n",
       "       sleep_time_years  time_from_awakening_to_peak_years  \\\n",
       "6942                  2                                  1   \n",
       "2795                  0                                  1   \n",
       "2794                  0                                  1   \n",
       "3815                  0                                  1   \n",
       "4355                  2                                  1   \n",
       "1794                 13                                  1   \n",
       "1372                 10                                  1   \n",
       "9201                  0                                  0   \n",
       "11583                 0                                  0   \n",
       "508                   7                                  1   \n",
       "\n",
       "       peak_year_relative_importance  sleep_to_peak_ratio  top_cited  \n",
       "6942                             1.0             0.500000          0  \n",
       "2795                             1.0                  inf          0  \n",
       "2794                             1.0                  inf          0  \n",
       "3815                             1.0                  inf          0  \n",
       "4355                             1.0             0.500000          0  \n",
       "1794                             1.0             0.076923          0  \n",
       "1372                             1.0             0.100000          0  \n",
       "9201                             1.0                  NaN          0  \n",
       "11583                            1.0                  NaN          0  \n",
       "508                              1.0             0.142857          0  "
      ]
     },
     "execution_count": 42,
     "metadata": {},
     "output_type": "execute_result"
    }
   ],
   "source": [
    "#cases where they get all citations in the year they were awakened\n",
    "df[df.peak_year_relative_importance==1].sort_values('total_citations',ascending=False).head(10)"
   ]
  },
  {
   "cell_type": "markdown",
   "metadata": {},
   "source": [
    "Top case where all its citations came from the same year was awakened: https://eur-lex.europa.eu/legal-content/EN/TXT/?qid=1594568525510&uri=CELEX:62007CJ0161\n",
    "\n",
    "                    Judgment of the Court (First Chamber) of 22 December 2008.\n",
    "        Commission of the European Communities v Republic of Austria.\n",
    "        Failure of a Member State to fulfil obligations - Article 43 EC - National legislation laying down the conditions for registration of partnerships or companies on application by nationals of the new Member States - Procedure for certification of self-employed status.\n",
    "        Case C-161/07."
   ]
  },
  {
   "cell_type": "markdown",
   "metadata": {},
   "source": [
    "the saame but with more sleeping time: 61983CJ0049"
   ]
  },
  {
   "cell_type": "code",
   "execution_count": null,
   "metadata": {},
   "outputs": [],
   "source": []
  },
  {
   "cell_type": "code",
   "execution_count": null,
   "metadata": {},
   "outputs": [],
   "source": []
  },
  {
   "cell_type": "code",
   "execution_count": null,
   "metadata": {},
   "outputs": [],
   "source": []
  },
  {
   "cell_type": "markdown",
   "metadata": {},
   "source": [
    "## The beauty coefficcient"
   ]
  },
  {
   "cell_type": "markdown",
   "metadata": {},
   "source": [
    "#### Average beauty coefficient per year"
   ]
  },
  {
   "cell_type": "code",
   "execution_count": 9,
   "metadata": {},
   "outputs": [
    {
     "data": {
      "text/plain": [
       "<matplotlib.axes._subplots.AxesSubplot at 0x7fc775d86a50>"
      ]
     },
     "execution_count": 9,
     "metadata": {},
     "output_type": "execute_result"
    },
    {
     "data": {
      "image/png": "[encoded data removed]",
      "text/plain": [
       "<Figure size 432x288 with 1 Axes>"
      ]
     },
     "metadata": {
      "needs_background": "light"
     },
     "output_type": "display_data"
    }
   ],
   "source": [
    "bcoeff_agg = df.groupby('publication_year').mean()['bcoefficient'].reset_index()\n",
    "sns.barplot(x=\"bcoefficient\", y=\"publication_year\", data=bcoeff_agg, orient=\"h\")"
   ]
  },
  {
   "cell_type": "markdown",
   "metadata": {},
   "source": [
    "The oldest cases has more chances to be sleeping beauties than the young ones as expected  \n",
    "This means that is only fair to compare beauty coefficient with cases of their own cohort"
   ]
  },
  {
   "cell_type": "markdown",
   "metadata": {},
   "source": [
    "#### Variables distributions"
   ]
  },
  {
   "cell_type": "markdown",
   "metadata": {},
   "source": [
    "Beauty coefficient"
   ]
  },
  {
   "cell_type": "code",
   "execution_count": 21,
   "metadata": {},
   "outputs": [
    {
     "data": {
      "text/plain": [
       "<matplotlib.axes._subplots.AxesSubplot at 0x7fc7767a6b90>"
      ]
     },
     "execution_count": 21,
     "metadata": {},
     "output_type": "execute_result"
    },
    {
     "data": {
      "image/png": "[encoded data removed]",
      "text/plain": [
       "<Figure size 432x288 with 1 Axes>"
      ]
     },
     "metadata": {
      "needs_background": "light"
     },
     "output_type": "display_data"
    }
   ],
   "source": [
    "sns.distplot(df.bcoefficient)"
   ]
  },
  {
   "cell_type": "code",
   "execution_count": 22,
   "metadata": {},
   "outputs": [
    {
     "data": {
      "text/plain": [
       "233.20000000000073"
      ]
     },
     "execution_count": 22,
     "metadata": {},
     "output_type": "execute_result"
    }
   ],
   "source": [
    "# top 5% with at least 1 citation\n",
    "top5p = df.bcoefficient.quantile(0.95)\n",
    "top5p"
   ]
  },
  {
   "cell_type": "code",
   "execution_count": 24,
   "metadata": {},
   "outputs": [
    {
     "data": {
      "text/plain": [
       "<matplotlib.axes._subplots.AxesSubplot at 0x7fc7768ace90>"
      ]
     },
     "execution_count": 24,
     "metadata": {},
     "output_type": "execute_result"
    },
    {
     "data": {
      "image/png": "[encoded data removed]",
      "text/plain": [
       "<Figure size 432x288 with 1 Axes>"
      ]
     },
     "metadata": {
      "needs_background": "light"
     },
     "output_type": "display_data"
    }
   ],
   "source": [
    "sns.distplot(df[df.bcoefficient > top5p].bcoefficient)"
   ]
  },
  {
   "cell_type": "code",
   "execution_count": 25,
   "metadata": {},
   "outputs": [],
   "source": [
    "df_top = df[df.bcoefficient > top5p]\\\n",
    "    .sort_values(by=['sleep_time_years','bcoefficient'], ascending=False)\\\n",
    "    .reset_index(drop=True)"
   ]
  },
  {
   "cell_type": "code",
   "execution_count": 26,
   "metadata": {},
   "outputs": [
    {
     "data": {
      "text/html": [
       "<div>\n",
       "<style scoped>\n",
       "    .dataframe tbody tr th:only-of-type {\n",
       "        vertical-align: middle;\n",
       "    }\n",
       "\n",
       "    .dataframe tbody tr th {\n",
       "        vertical-align: top;\n",
       "    }\n",
       "\n",
       "    .dataframe thead th {\n",
       "        text-align: right;\n",
       "    }\n",
       "</style>\n",
       "<table border=\"1\" class=\"dataframe\">\n",
       "  <thead>\n",
       "    <tr style=\"text-align: right;\">\n",
       "      <th></th>\n",
       "      <th>case_id</th>\n",
       "      <th>bcoefficient</th>\n",
       "      <th>publication_year</th>\n",
       "      <th>total_citations</th>\n",
       "      <th>max_citations_in_a_year</th>\n",
       "      <th>max_citation_year</th>\n",
       "      <th>awakening_time_year</th>\n",
       "      <th>sleep_time_years</th>\n",
       "      <th>time_from_awakening_to_peak_years</th>\n",
       "      <th>peak_year_relative_importance</th>\n",
       "      <th>sleep_to_peak_ratio</th>\n",
       "      <th>top_cited</th>\n",
       "    </tr>\n",
       "  </thead>\n",
       "  <tbody>\n",
       "    <tr>\n",
       "      <th>0</th>\n",
       "      <td>61956CJ0009</td>\n",
       "      <td>4709.5</td>\n",
       "      <td>1958</td>\n",
       "      <td>12</td>\n",
       "      <td>3</td>\n",
       "      <td>2015</td>\n",
       "      <td>2013</td>\n",
       "      <td>55</td>\n",
       "      <td>2</td>\n",
       "      <td>0.250000</td>\n",
       "      <td>0.036364</td>\n",
       "      <td>1</td>\n",
       "    </tr>\n",
       "    <tr>\n",
       "      <th>1</th>\n",
       "      <td>61960CJ0006</td>\n",
       "      <td>2965.0</td>\n",
       "      <td>1960</td>\n",
       "      <td>7</td>\n",
       "      <td>2</td>\n",
       "      <td>2015</td>\n",
       "      <td>2014</td>\n",
       "      <td>54</td>\n",
       "      <td>1</td>\n",
       "      <td>0.285714</td>\n",
       "      <td>0.018519</td>\n",
       "      <td>0</td>\n",
       "    </tr>\n",
       "    <tr>\n",
       "      <th>2</th>\n",
       "      <td>61963CJ0069</td>\n",
       "      <td>1326.0</td>\n",
       "      <td>1964</td>\n",
       "      <td>1</td>\n",
       "      <td>1</td>\n",
       "      <td>2016</td>\n",
       "      <td>2015</td>\n",
       "      <td>51</td>\n",
       "      <td>1</td>\n",
       "      <td>1.000000</td>\n",
       "      <td>0.019608</td>\n",
       "      <td>0</td>\n",
       "    </tr>\n",
       "    <tr>\n",
       "      <th>3</th>\n",
       "      <td>61958CJ0003</td>\n",
       "      <td>1326.0</td>\n",
       "      <td>1960</td>\n",
       "      <td>1</td>\n",
       "      <td>1</td>\n",
       "      <td>2012</td>\n",
       "      <td>2011</td>\n",
       "      <td>51</td>\n",
       "      <td>1</td>\n",
       "      <td>1.000000</td>\n",
       "      <td>0.019608</td>\n",
       "      <td>0</td>\n",
       "    </tr>\n",
       "    <tr>\n",
       "      <th>4</th>\n",
       "      <td>61958CJ0019</td>\n",
       "      <td>1326.0</td>\n",
       "      <td>1960</td>\n",
       "      <td>1</td>\n",
       "      <td>1</td>\n",
       "      <td>2012</td>\n",
       "      <td>2011</td>\n",
       "      <td>51</td>\n",
       "      <td>1</td>\n",
       "      <td>1.000000</td>\n",
       "      <td>0.019608</td>\n",
       "      <td>0</td>\n",
       "    </tr>\n",
       "    <tr>\n",
       "      <th>5</th>\n",
       "      <td>61965CO0025</td>\n",
       "      <td>1225.0</td>\n",
       "      <td>1967</td>\n",
       "      <td>1</td>\n",
       "      <td>1</td>\n",
       "      <td>2017</td>\n",
       "      <td>2016</td>\n",
       "      <td>49</td>\n",
       "      <td>1</td>\n",
       "      <td>1.000000</td>\n",
       "      <td>0.020408</td>\n",
       "      <td>0</td>\n",
       "    </tr>\n",
       "    <tr>\n",
       "      <th>6</th>\n",
       "      <td>61965CJ0051</td>\n",
       "      <td>1176.0</td>\n",
       "      <td>1966</td>\n",
       "      <td>1</td>\n",
       "      <td>1</td>\n",
       "      <td>2015</td>\n",
       "      <td>2014</td>\n",
       "      <td>48</td>\n",
       "      <td>1</td>\n",
       "      <td>1.000000</td>\n",
       "      <td>0.020833</td>\n",
       "      <td>0</td>\n",
       "    </tr>\n",
       "    <tr>\n",
       "      <th>7</th>\n",
       "      <td>61967CJ0005</td>\n",
       "      <td>1081.0</td>\n",
       "      <td>1968</td>\n",
       "      <td>1</td>\n",
       "      <td>1</td>\n",
       "      <td>2015</td>\n",
       "      <td>2014</td>\n",
       "      <td>46</td>\n",
       "      <td>1</td>\n",
       "      <td>1.000000</td>\n",
       "      <td>0.021739</td>\n",
       "      <td>0</td>\n",
       "    </tr>\n",
       "    <tr>\n",
       "      <th>8</th>\n",
       "      <td>61960CJ0025</td>\n",
       "      <td>1081.0</td>\n",
       "      <td>1962</td>\n",
       "      <td>1</td>\n",
       "      <td>1</td>\n",
       "      <td>2009</td>\n",
       "      <td>2008</td>\n",
       "      <td>46</td>\n",
       "      <td>1</td>\n",
       "      <td>1.000000</td>\n",
       "      <td>0.021739</td>\n",
       "      <td>0</td>\n",
       "    </tr>\n",
       "    <tr>\n",
       "      <th>9</th>\n",
       "      <td>61962CJ0036</td>\n",
       "      <td>1035.0</td>\n",
       "      <td>1963</td>\n",
       "      <td>1</td>\n",
       "      <td>1</td>\n",
       "      <td>2009</td>\n",
       "      <td>2008</td>\n",
       "      <td>45</td>\n",
       "      <td>1</td>\n",
       "      <td>1.000000</td>\n",
       "      <td>0.022222</td>\n",
       "      <td>0</td>\n",
       "    </tr>\n",
       "    <tr>\n",
       "      <th>10</th>\n",
       "      <td>61957CJ0008</td>\n",
       "      <td>1890.0</td>\n",
       "      <td>1958</td>\n",
       "      <td>4</td>\n",
       "      <td>2</td>\n",
       "      <td>2002</td>\n",
       "      <td>2001</td>\n",
       "      <td>43</td>\n",
       "      <td>1</td>\n",
       "      <td>0.500000</td>\n",
       "      <td>0.023256</td>\n",
       "      <td>0</td>\n",
       "    </tr>\n",
       "    <tr>\n",
       "      <th>11</th>\n",
       "      <td>61965CJ0044</td>\n",
       "      <td>1889.0</td>\n",
       "      <td>1965</td>\n",
       "      <td>7</td>\n",
       "      <td>2</td>\n",
       "      <td>2009</td>\n",
       "      <td>2008</td>\n",
       "      <td>43</td>\n",
       "      <td>1</td>\n",
       "      <td>0.285714</td>\n",
       "      <td>0.023256</td>\n",
       "      <td>0</td>\n",
       "    </tr>\n",
       "    <tr>\n",
       "      <th>12</th>\n",
       "      <td>61959CJ0014</td>\n",
       "      <td>946.0</td>\n",
       "      <td>1959</td>\n",
       "      <td>1</td>\n",
       "      <td>1</td>\n",
       "      <td>2003</td>\n",
       "      <td>2002</td>\n",
       "      <td>43</td>\n",
       "      <td>1</td>\n",
       "      <td>1.000000</td>\n",
       "      <td>0.023256</td>\n",
       "      <td>0</td>\n",
       "    </tr>\n",
       "    <tr>\n",
       "      <th>13</th>\n",
       "      <td>61972CJ0038</td>\n",
       "      <td>946.0</td>\n",
       "      <td>1972</td>\n",
       "      <td>1</td>\n",
       "      <td>1</td>\n",
       "      <td>2016</td>\n",
       "      <td>2015</td>\n",
       "      <td>43</td>\n",
       "      <td>1</td>\n",
       "      <td>1.000000</td>\n",
       "      <td>0.023256</td>\n",
       "      <td>0</td>\n",
       "    </tr>\n",
       "    <tr>\n",
       "      <th>14</th>\n",
       "      <td>61968CJ0028</td>\n",
       "      <td>946.0</td>\n",
       "      <td>1969</td>\n",
       "      <td>1</td>\n",
       "      <td>1</td>\n",
       "      <td>2013</td>\n",
       "      <td>2012</td>\n",
       "      <td>43</td>\n",
       "      <td>1</td>\n",
       "      <td>1.000000</td>\n",
       "      <td>0.023256</td>\n",
       "      <td>0</td>\n",
       "    </tr>\n",
       "    <tr>\n",
       "      <th>15</th>\n",
       "      <td>61973CJ0013</td>\n",
       "      <td>946.0</td>\n",
       "      <td>1973</td>\n",
       "      <td>1</td>\n",
       "      <td>1</td>\n",
       "      <td>2017</td>\n",
       "      <td>2016</td>\n",
       "      <td>43</td>\n",
       "      <td>1</td>\n",
       "      <td>1.000000</td>\n",
       "      <td>0.023256</td>\n",
       "      <td>0</td>\n",
       "    </tr>\n",
       "    <tr>\n",
       "      <th>16</th>\n",
       "      <td>61970CJ0030</td>\n",
       "      <td>2707.0</td>\n",
       "      <td>1970</td>\n",
       "      <td>5</td>\n",
       "      <td>3</td>\n",
       "      <td>2013</td>\n",
       "      <td>2012</td>\n",
       "      <td>42</td>\n",
       "      <td>1</td>\n",
       "      <td>0.600000</td>\n",
       "      <td>0.023810</td>\n",
       "      <td>0</td>\n",
       "    </tr>\n",
       "    <tr>\n",
       "      <th>17</th>\n",
       "      <td>61969CJ0014</td>\n",
       "      <td>903.0</td>\n",
       "      <td>1969</td>\n",
       "      <td>1</td>\n",
       "      <td>1</td>\n",
       "      <td>2012</td>\n",
       "      <td>2011</td>\n",
       "      <td>42</td>\n",
       "      <td>1</td>\n",
       "      <td>1.000000</td>\n",
       "      <td>0.023810</td>\n",
       "      <td>0</td>\n",
       "    </tr>\n",
       "    <tr>\n",
       "      <th>18</th>\n",
       "      <td>61964CJ0016</td>\n",
       "      <td>903.0</td>\n",
       "      <td>1965</td>\n",
       "      <td>1</td>\n",
       "      <td>1</td>\n",
       "      <td>2008</td>\n",
       "      <td>2007</td>\n",
       "      <td>42</td>\n",
       "      <td>1</td>\n",
       "      <td>1.000000</td>\n",
       "      <td>0.023810</td>\n",
       "      <td>0</td>\n",
       "    </tr>\n",
       "    <tr>\n",
       "      <th>19</th>\n",
       "      <td>61967CJ0012</td>\n",
       "      <td>903.0</td>\n",
       "      <td>1967</td>\n",
       "      <td>1</td>\n",
       "      <td>1</td>\n",
       "      <td>2010</td>\n",
       "      <td>2009</td>\n",
       "      <td>42</td>\n",
       "      <td>1</td>\n",
       "      <td>1.000000</td>\n",
       "      <td>0.023810</td>\n",
       "      <td>0</td>\n",
       "    </tr>\n",
       "  </tbody>\n",
       "</table>\n",
       "</div>"
      ],
      "text/plain": [
       "        case_id  bcoefficient  publication_year  total_citations  \\\n",
       "0   61956CJ0009        4709.5              1958               12   \n",
       "1   61960CJ0006        2965.0              1960                7   \n",
       "2   61963CJ0069        1326.0              1964                1   \n",
       "3   61958CJ0003        1326.0              1960                1   \n",
       "4   61958CJ0019        1326.0              1960                1   \n",
       "5   61965CO0025        1225.0              1967                1   \n",
       "6   61965CJ0051        1176.0              1966                1   \n",
       "7   61967CJ0005        1081.0              1968                1   \n",
       "8   61960CJ0025        1081.0              1962                1   \n",
       "9   61962CJ0036        1035.0              1963                1   \n",
       "10  61957CJ0008        1890.0              1958                4   \n",
       "11  61965CJ0044        1889.0              1965                7   \n",
       "12  61959CJ0014         946.0              1959                1   \n",
       "13  61972CJ0038         946.0              1972                1   \n",
       "14  61968CJ0028         946.0              1969                1   \n",
       "15  61973CJ0013         946.0              1973                1   \n",
       "16  61970CJ0030        2707.0              1970                5   \n",
       "17  61969CJ0014         903.0              1969                1   \n",
       "18  61964CJ0016         903.0              1965                1   \n",
       "19  61967CJ0012         903.0              1967                1   \n",
       "\n",
       "    max_citations_in_a_year  max_citation_year  awakening_time_year  \\\n",
       "0                         3               2015                 2013   \n",
       "1                         2               2015                 2014   \n",
       "2                         1               2016                 2015   \n",
       "3                         1               2012                 2011   \n",
       "4                         1               2012                 2011   \n",
       "5                         1               2017                 2016   \n",
       "6                         1               2015                 2014   \n",
       "7                         1               2015                 2014   \n",
       "8                         1               2009                 2008   \n",
       "9                         1               2009                 2008   \n",
       "10                        2               2002                 2001   \n",
       "11                        2               2009                 2008   \n",
       "12                        1               2003                 2002   \n",
       "13                        1               2016                 2015   \n",
       "14                        1               2013                 2012   \n",
       "15                        1               2017                 2016   \n",
       "16                        3               2013                 2012   \n",
       "17                        1               2012                 2011   \n",
       "18                        1               2008                 2007   \n",
       "19                        1               2010                 2009   \n",
       "\n",
       "    sleep_time_years  time_from_awakening_to_peak_years  \\\n",
       "0                 55                                  2   \n",
       "1                 54                                  1   \n",
       "2                 51                                  1   \n",
       "3                 51                                  1   \n",
       "4                 51                                  1   \n",
       "5                 49                                  1   \n",
       "6                 48                                  1   \n",
       "7                 46                                  1   \n",
       "8                 46                                  1   \n",
       "9                 45                                  1   \n",
       "10                43                                  1   \n",
       "11                43                                  1   \n",
       "12                43                                  1   \n",
       "13                43                                  1   \n",
       "14                43                                  1   \n",
       "15                43                                  1   \n",
       "16                42                                  1   \n",
       "17                42                                  1   \n",
       "18                42                                  1   \n",
       "19                42                                  1   \n",
       "\n",
       "    peak_year_relative_importance  sleep_to_peak_ratio  top_cited  \n",
       "0                        0.250000             0.036364          1  \n",
       "1                        0.285714             0.018519          0  \n",
       "2                        1.000000             0.019608          0  \n",
       "3                        1.000000             0.019608          0  \n",
       "4                        1.000000             0.019608          0  \n",
       "5                        1.000000             0.020408          0  \n",
       "6                        1.000000             0.020833          0  \n",
       "7                        1.000000             0.021739          0  \n",
       "8                        1.000000             0.021739          0  \n",
       "9                        1.000000             0.022222          0  \n",
       "10                       0.500000             0.023256          0  \n",
       "11                       0.285714             0.023256          0  \n",
       "12                       1.000000             0.023256          0  \n",
       "13                       1.000000             0.023256          0  \n",
       "14                       1.000000             0.023256          0  \n",
       "15                       1.000000             0.023256          0  \n",
       "16                       0.600000             0.023810          0  \n",
       "17                       1.000000             0.023810          0  \n",
       "18                       1.000000             0.023810          0  \n",
       "19                       1.000000             0.023810          0  "
      ]
     },
     "execution_count": 26,
     "metadata": {},
     "output_type": "execute_result"
    }
   ],
   "source": [
    "df_top.head(20)"
   ]
  },
  {
   "cell_type": "markdown",
   "metadata": {},
   "source": [
    "**Top cited cases and their bcoefficient**"
   ]
  },
  {
   "cell_type": "code",
   "execution_count": 43,
   "metadata": {},
   "outputs": [
    {
     "data": {
      "text/html": [
       "<div>\n",
       "<style scoped>\n",
       "    .dataframe tbody tr th:only-of-type {\n",
       "        vertical-align: middle;\n",
       "    }\n",
       "\n",
       "    .dataframe tbody tr th {\n",
       "        vertical-align: top;\n",
       "    }\n",
       "\n",
       "    .dataframe thead th {\n",
       "        text-align: right;\n",
       "    }\n",
       "</style>\n",
       "<table border=\"1\" class=\"dataframe\">\n",
       "  <thead>\n",
       "    <tr style=\"text-align: right;\">\n",
       "      <th></th>\n",
       "      <th>case_id</th>\n",
       "      <th>bcoefficient</th>\n",
       "      <th>publication_year</th>\n",
       "      <th>total_citations</th>\n",
       "      <th>max_citations_in_a_year</th>\n",
       "      <th>max_citation_year</th>\n",
       "      <th>awakening_time_year</th>\n",
       "      <th>sleep_time_years</th>\n",
       "      <th>time_from_awakening_to_peak_years</th>\n",
       "      <th>top_cited</th>\n",
       "    </tr>\n",
       "  </thead>\n",
       "  <tbody>\n",
       "    <tr>\n",
       "      <th>169</th>\n",
       "      <td>61974CJ0008</td>\n",
       "      <td>866.900000</td>\n",
       "      <td>1974</td>\n",
       "      <td>90</td>\n",
       "      <td>6</td>\n",
       "      <td>1998</td>\n",
       "      <td>1996</td>\n",
       "      <td>22</td>\n",
       "      <td>2</td>\n",
       "      <td>1</td>\n",
       "    </tr>\n",
       "    <tr>\n",
       "      <th>178</th>\n",
       "      <td>61978CJ0120</td>\n",
       "      <td>1231.500000</td>\n",
       "      <td>1979</td>\n",
       "      <td>59</td>\n",
       "      <td>6</td>\n",
       "      <td>2003</td>\n",
       "      <td>2000</td>\n",
       "      <td>21</td>\n",
       "      <td>3</td>\n",
       "      <td>1</td>\n",
       "    </tr>\n",
       "    <tr>\n",
       "      <th>253</th>\n",
       "      <td>61981CJ0141</td>\n",
       "      <td>504.000000</td>\n",
       "      <td>1982</td>\n",
       "      <td>45</td>\n",
       "      <td>6</td>\n",
       "      <td>1996</td>\n",
       "      <td>1994</td>\n",
       "      <td>12</td>\n",
       "      <td>2</td>\n",
       "      <td>1</td>\n",
       "    </tr>\n",
       "    <tr>\n",
       "      <th>202</th>\n",
       "      <td>61983CJ0270</td>\n",
       "      <td>1814.700000</td>\n",
       "      <td>1986</td>\n",
       "      <td>44</td>\n",
       "      <td>9</td>\n",
       "      <td>2011</td>\n",
       "      <td>2005</td>\n",
       "      <td>19</td>\n",
       "      <td>6</td>\n",
       "      <td>1</td>\n",
       "    </tr>\n",
       "    <tr>\n",
       "      <th>39</th>\n",
       "      <td>61962CJ0025</td>\n",
       "      <td>2631.000000</td>\n",
       "      <td>1963</td>\n",
       "      <td>39</td>\n",
       "      <td>4</td>\n",
       "      <td>2001</td>\n",
       "      <td>1999</td>\n",
       "      <td>36</td>\n",
       "      <td>2</td>\n",
       "      <td>1</td>\n",
       "    </tr>\n",
       "    <tr>\n",
       "      <th>145</th>\n",
       "      <td>61980CJ0100</td>\n",
       "      <td>1403.333333</td>\n",
       "      <td>1983</td>\n",
       "      <td>38</td>\n",
       "      <td>5</td>\n",
       "      <td>2009</td>\n",
       "      <td>2008</td>\n",
       "      <td>25</td>\n",
       "      <td>1</td>\n",
       "      <td>1</td>\n",
       "    </tr>\n",
       "    <tr>\n",
       "      <th>92</th>\n",
       "      <td>61970CJ0022</td>\n",
       "      <td>2984.000000</td>\n",
       "      <td>1971</td>\n",
       "      <td>37</td>\n",
       "      <td>7</td>\n",
       "      <td>2002</td>\n",
       "      <td>2001</td>\n",
       "      <td>30</td>\n",
       "      <td>1</td>\n",
       "      <td>1</td>\n",
       "    </tr>\n",
       "    <tr>\n",
       "      <th>215</th>\n",
       "      <td>61980CJ0244</td>\n",
       "      <td>862.333333</td>\n",
       "      <td>1981</td>\n",
       "      <td>36</td>\n",
       "      <td>4</td>\n",
       "      <td>2003</td>\n",
       "      <td>1999</td>\n",
       "      <td>18</td>\n",
       "      <td>4</td>\n",
       "      <td>1</td>\n",
       "    </tr>\n",
       "  </tbody>\n",
       "</table>\n",
       "</div>"
      ],
      "text/plain": [
       "         case_id  bcoefficient  publication_year  total_citations  \\\n",
       "169  61974CJ0008    866.900000              1974               90   \n",
       "178  61978CJ0120   1231.500000              1979               59   \n",
       "253  61981CJ0141    504.000000              1982               45   \n",
       "202  61983CJ0270   1814.700000              1986               44   \n",
       "39   61962CJ0025   2631.000000              1963               39   \n",
       "145  61980CJ0100   1403.333333              1983               38   \n",
       "92   61970CJ0022   2984.000000              1971               37   \n",
       "215  61980CJ0244    862.333333              1981               36   \n",
       "\n",
       "     max_citations_in_a_year  max_citation_year  awakening_time_year  \\\n",
       "169                        6               1998                 1996   \n",
       "178                        6               2003                 2000   \n",
       "253                        6               1996                 1994   \n",
       "202                        9               2011                 2005   \n",
       "39                         4               2001                 1999   \n",
       "145                        5               2009                 2008   \n",
       "92                         7               2002                 2001   \n",
       "215                        4               2003                 1999   \n",
       "\n",
       "     sleep_time_years  time_from_awakening_to_peak_years  top_cited  \n",
       "169                22                                  2          1  \n",
       "178                21                                  3          1  \n",
       "253                12                                  2          1  \n",
       "202                19                                  6          1  \n",
       "39                 36                                  2          1  \n",
       "145                25                                  1          1  \n",
       "92                 30                                  1          1  \n",
       "215                18                                  4          1  "
      ]
     },
     "execution_count": 43,
     "metadata": {},
     "output_type": "execute_result"
    }
   ],
   "source": [
    "df_top.sort_values('total_citations', ascending=False).head(8)"
   ]
  },
  {
   "cell_type": "code",
   "execution_count": 46,
   "metadata": {},
   "outputs": [],
   "source": [
    "#more cited case with the top b coeff\n",
    "#https://eur-lex.europa.eu/legal-content/EN/TXT/?qid=1592245944223&uri=CELEX:61974CJ0008"
   ]
  },
  {
   "cell_type": "code",
   "execution_count": 44,
   "metadata": {},
   "outputs": [
    {
     "data": {
      "text/html": [
       "<div>\n",
       "<style scoped>\n",
       "    .dataframe tbody tr th:only-of-type {\n",
       "        vertical-align: middle;\n",
       "    }\n",
       "\n",
       "    .dataframe tbody tr th {\n",
       "        vertical-align: top;\n",
       "    }\n",
       "\n",
       "    .dataframe thead th {\n",
       "        text-align: right;\n",
       "    }\n",
       "</style>\n",
       "<table border=\"1\" class=\"dataframe\">\n",
       "  <thead>\n",
       "    <tr style=\"text-align: right;\">\n",
       "      <th></th>\n",
       "      <th>case_id</th>\n",
       "      <th>bcoefficient</th>\n",
       "      <th>publication_year</th>\n",
       "      <th>total_citations</th>\n",
       "      <th>max_citations_in_a_year</th>\n",
       "      <th>max_citation_year</th>\n",
       "      <th>awakening_time_year</th>\n",
       "      <th>sleep_time_years</th>\n",
       "      <th>time_from_awakening_to_peak_years</th>\n",
       "      <th>top_cited</th>\n",
       "    </tr>\n",
       "  </thead>\n",
       "  <tbody>\n",
       "    <tr>\n",
       "      <th>0</th>\n",
       "      <td>61956CJ0009</td>\n",
       "      <td>4709.5</td>\n",
       "      <td>1958</td>\n",
       "      <td>12</td>\n",
       "      <td>3</td>\n",
       "      <td>2015</td>\n",
       "      <td>2013</td>\n",
       "      <td>55</td>\n",
       "      <td>2</td>\n",
       "      <td>0</td>\n",
       "    </tr>\n",
       "    <tr>\n",
       "      <th>1</th>\n",
       "      <td>61960CJ0006</td>\n",
       "      <td>2965.0</td>\n",
       "      <td>1960</td>\n",
       "      <td>7</td>\n",
       "      <td>2</td>\n",
       "      <td>2015</td>\n",
       "      <td>2014</td>\n",
       "      <td>54</td>\n",
       "      <td>1</td>\n",
       "      <td>0</td>\n",
       "    </tr>\n",
       "    <tr>\n",
       "      <th>2</th>\n",
       "      <td>61963CJ0069</td>\n",
       "      <td>1326.0</td>\n",
       "      <td>1964</td>\n",
       "      <td>1</td>\n",
       "      <td>1</td>\n",
       "      <td>2016</td>\n",
       "      <td>2015</td>\n",
       "      <td>51</td>\n",
       "      <td>1</td>\n",
       "      <td>0</td>\n",
       "    </tr>\n",
       "    <tr>\n",
       "      <th>3</th>\n",
       "      <td>61958CJ0003</td>\n",
       "      <td>1326.0</td>\n",
       "      <td>1960</td>\n",
       "      <td>1</td>\n",
       "      <td>1</td>\n",
       "      <td>2012</td>\n",
       "      <td>2011</td>\n",
       "      <td>51</td>\n",
       "      <td>1</td>\n",
       "      <td>0</td>\n",
       "    </tr>\n",
       "    <tr>\n",
       "      <th>4</th>\n",
       "      <td>61958CJ0019</td>\n",
       "      <td>1326.0</td>\n",
       "      <td>1960</td>\n",
       "      <td>1</td>\n",
       "      <td>1</td>\n",
       "      <td>2012</td>\n",
       "      <td>2011</td>\n",
       "      <td>51</td>\n",
       "      <td>1</td>\n",
       "      <td>0</td>\n",
       "    </tr>\n",
       "    <tr>\n",
       "      <th>5</th>\n",
       "      <td>61965CO0025</td>\n",
       "      <td>1225.0</td>\n",
       "      <td>1967</td>\n",
       "      <td>1</td>\n",
       "      <td>1</td>\n",
       "      <td>2017</td>\n",
       "      <td>2016</td>\n",
       "      <td>49</td>\n",
       "      <td>1</td>\n",
       "      <td>0</td>\n",
       "    </tr>\n",
       "    <tr>\n",
       "      <th>6</th>\n",
       "      <td>61965CJ0051</td>\n",
       "      <td>1176.0</td>\n",
       "      <td>1966</td>\n",
       "      <td>1</td>\n",
       "      <td>1</td>\n",
       "      <td>2015</td>\n",
       "      <td>2014</td>\n",
       "      <td>48</td>\n",
       "      <td>1</td>\n",
       "      <td>0</td>\n",
       "    </tr>\n",
       "    <tr>\n",
       "      <th>7</th>\n",
       "      <td>61967CJ0005</td>\n",
       "      <td>1081.0</td>\n",
       "      <td>1968</td>\n",
       "      <td>1</td>\n",
       "      <td>1</td>\n",
       "      <td>2015</td>\n",
       "      <td>2014</td>\n",
       "      <td>46</td>\n",
       "      <td>1</td>\n",
       "      <td>0</td>\n",
       "    </tr>\n",
       "  </tbody>\n",
       "</table>\n",
       "</div>"
      ],
      "text/plain": [
       "       case_id  bcoefficient  publication_year  total_citations  \\\n",
       "0  61956CJ0009        4709.5              1958               12   \n",
       "1  61960CJ0006        2965.0              1960                7   \n",
       "2  61963CJ0069        1326.0              1964                1   \n",
       "3  61958CJ0003        1326.0              1960                1   \n",
       "4  61958CJ0019        1326.0              1960                1   \n",
       "5  61965CO0025        1225.0              1967                1   \n",
       "6  61965CJ0051        1176.0              1966                1   \n",
       "7  61967CJ0005        1081.0              1968                1   \n",
       "\n",
       "   max_citations_in_a_year  max_citation_year  awakening_time_year  \\\n",
       "0                        3               2015                 2013   \n",
       "1                        2               2015                 2014   \n",
       "2                        1               2016                 2015   \n",
       "3                        1               2012                 2011   \n",
       "4                        1               2012                 2011   \n",
       "5                        1               2017                 2016   \n",
       "6                        1               2015                 2014   \n",
       "7                        1               2015                 2014   \n",
       "\n",
       "   sleep_time_years  time_from_awakening_to_peak_years  top_cited  \n",
       "0                55                                  2          0  \n",
       "1                54                                  1          0  \n",
       "2                51                                  1          0  \n",
       "3                51                                  1          0  \n",
       "4                51                                  1          0  \n",
       "5                49                                  1          0  \n",
       "6                48                                  1          0  \n",
       "7                46                                  1          0  "
      ]
     },
     "execution_count": 44,
     "metadata": {},
     "output_type": "execute_result"
    }
   ],
   "source": [
    "df_top.sort_values('sleep_time_years', ascending=False).head(8)"
   ]
  },
  {
   "cell_type": "code",
   "execution_count": 45,
   "metadata": {},
   "outputs": [],
   "source": [
    "#More sleepy case\n",
    "#https://eur-lex.europa.eu/legal-content/EN/ALL/?uri=CELEX:61956CJ0009&qid=1592245887258"
   ]
  },
  {
   "cell_type": "code",
   "execution_count": 20,
   "metadata": {},
   "outputs": [
    {
     "data": {
      "text/html": [
       "<div>\n",
       "<style scoped>\n",
       "    .dataframe tbody tr th:only-of-type {\n",
       "        vertical-align: middle;\n",
       "    }\n",
       "\n",
       "    .dataframe tbody tr th {\n",
       "        vertical-align: top;\n",
       "    }\n",
       "\n",
       "    .dataframe thead th {\n",
       "        text-align: right;\n",
       "    }\n",
       "</style>\n",
       "<table border=\"1\" class=\"dataframe\">\n",
       "  <thead>\n",
       "    <tr style=\"text-align: right;\">\n",
       "      <th></th>\n",
       "      <th>case_id</th>\n",
       "      <th>bcoefficient</th>\n",
       "      <th>publication_year</th>\n",
       "      <th>total_citations</th>\n",
       "      <th>max_citations_in_a_year</th>\n",
       "      <th>max_citation_year</th>\n",
       "      <th>awakening_time_year</th>\n",
       "      <th>sleep_time_years</th>\n",
       "      <th>time_from_awakening_to_peak_years</th>\n",
       "      <th>top_cited</th>\n",
       "    </tr>\n",
       "  </thead>\n",
       "  <tbody>\n",
       "    <tr>\n",
       "      <th>1</th>\n",
       "      <td>61995CJ0032</td>\n",
       "      <td>10.0</td>\n",
       "      <td>1996</td>\n",
       "      <td>8</td>\n",
       "      <td>2</td>\n",
       "      <td>2000</td>\n",
       "      <td>1997</td>\n",
       "      <td>1</td>\n",
       "      <td>3</td>\n",
       "      <td>0</td>\n",
       "    </tr>\n",
       "    <tr>\n",
       "      <th>2</th>\n",
       "      <td>61995CJ0067</td>\n",
       "      <td>55.0</td>\n",
       "      <td>1997</td>\n",
       "      <td>2</td>\n",
       "      <td>1</td>\n",
       "      <td>2008</td>\n",
       "      <td>2007</td>\n",
       "      <td>10</td>\n",
       "      <td>1</td>\n",
       "      <td>0</td>\n",
       "    </tr>\n",
       "    <tr>\n",
       "      <th>4</th>\n",
       "      <td>61998CJ0285</td>\n",
       "      <td>211.0</td>\n",
       "      <td>2000</td>\n",
       "      <td>11</td>\n",
       "      <td>6</td>\n",
       "      <td>2009</td>\n",
       "      <td>2007</td>\n",
       "      <td>7</td>\n",
       "      <td>2</td>\n",
       "      <td>0</td>\n",
       "    </tr>\n",
       "    <tr>\n",
       "      <th>5</th>\n",
       "      <td>61995CJ0001</td>\n",
       "      <td>268.0</td>\n",
       "      <td>1997</td>\n",
       "      <td>6</td>\n",
       "      <td>2</td>\n",
       "      <td>2014</td>\n",
       "      <td>2013</td>\n",
       "      <td>16</td>\n",
       "      <td>1</td>\n",
       "      <td>0</td>\n",
       "    </tr>\n",
       "    <tr>\n",
       "      <th>6</th>\n",
       "      <td>61997CJ0126</td>\n",
       "      <td>39.0</td>\n",
       "      <td>1999</td>\n",
       "      <td>8</td>\n",
       "      <td>2</td>\n",
       "      <td>2006</td>\n",
       "      <td>2004</td>\n",
       "      <td>5</td>\n",
       "      <td>2</td>\n",
       "      <td>0</td>\n",
       "    </tr>\n",
       "  </tbody>\n",
       "</table>\n",
       "</div>"
      ],
      "text/plain": [
       "       case_id  bcoefficient  publication_year  total_citations  \\\n",
       "1  61995CJ0032          10.0              1996                8   \n",
       "2  61995CJ0067          55.0              1997                2   \n",
       "4  61998CJ0285         211.0              2000               11   \n",
       "5  61995CJ0001         268.0              1997                6   \n",
       "6  61997CJ0126          39.0              1999                8   \n",
       "\n",
       "   max_citations_in_a_year  max_citation_year  awakening_time_year  \\\n",
       "1                        2               2000                 1997   \n",
       "2                        1               2008                 2007   \n",
       "4                        6               2009                 2007   \n",
       "5                        2               2014                 2013   \n",
       "6                        2               2006                 2004   \n",
       "\n",
       "   sleep_time_years  time_from_awakening_to_peak_years  top_cited  \n",
       "1                 1                                  3          0  \n",
       "2                10                                  1          0  \n",
       "4                 7                                  2          0  \n",
       "5                16                                  1          0  \n",
       "6                 5                                  2          0  "
      ]
     },
     "execution_count": 20,
     "metadata": {},
     "output_type": "execute_result"
    }
   ],
   "source": [
    "df.head()"
   ]
  },
  {
   "cell_type": "code",
   "execution_count": 28,
   "metadata": {},
   "outputs": [
    {
     "name": "stdout",
     "output_type": "stream",
     "text": [
      "69.0955934612651 148.80520003569046\n"
     ]
    }
   ],
   "source": [
    "print(df_non_top_sample.bcoefficient.mean(), df_top_cited.bcoefficient.mean())"
   ]
  },
  {
   "cell_type": "code",
   "execution_count": 29,
   "metadata": {},
   "outputs": [
    {
     "data": {
      "text/plain": [
       "Ttest_indResult(statistic=-4.137787125794725, pvalue=3.9479427321364037e-05)"
      ]
     },
     "execution_count": 29,
     "metadata": {},
     "output_type": "execute_result"
    }
   ],
   "source": [
    "stats.ttest_ind(df_non_top_sample.bcoefficient, df_top_cited.bcoefficient, equal_var = False)"
   ]
  },
  {
   "cell_type": "markdown",
   "metadata": {},
   "source": [
    "**This might be logical since bcoeff includes the number of citations**"
   ]
  },
  {
   "cell_type": "code",
   "execution_count": 30,
   "metadata": {},
   "outputs": [
    {
     "name": "stdout",
     "output_type": "stream",
     "text": [
      "1.1343283582089552 1.6801705756929637\n"
     ]
    }
   ],
   "source": [
    "print(df_non_top_sample.time_from_awakening_to_peak_years.mean(), df_top_cited.time_from_awakening_to_peak_years.mean())"
   ]
  },
  {
   "cell_type": "code",
   "execution_count": 31,
   "metadata": {},
   "outputs": [
    {
     "data": {
      "text/plain": [
       "Ttest_indResult(statistic=-10.135748102912363, pvalue=2.2961937340989166e-22)"
      ]
     },
     "execution_count": 31,
     "metadata": {},
     "output_type": "execute_result"
    }
   ],
   "source": [
    "stats.ttest_ind(df_non_top_sample.time_from_awakening_to_peak_years, df_top_cited.time_from_awakening_to_peak_years, equal_var = False)"
   ]
  },
  {
   "cell_type": "markdown",
   "metadata": {},
   "source": [
    "## Metadata integration"
   ]
  },
  {
   "cell_type": "code",
   "execution_count": 32,
   "metadata": {},
   "outputs": [],
   "source": [
    "metadata = pd.read_csv('cases_metadata.csv')\n",
    "subjects = pd.read_csv('subjects.csv')"
   ]
  },
  {
   "cell_type": "code",
   "execution_count": 33,
   "metadata": {},
   "outputs": [],
   "source": [
    "df_top_metadata = df_top\\\n",
    "    .merge(metadata, how='left', left_on='case_id', right_on='source')\\\n",
    "    .merge(subjects, how='left', left_on='case_id', right_on='source')"
   ]
  },
  {
   "cell_type": "code",
   "execution_count": 34,
   "metadata": {},
   "outputs": [
    {
     "data": {
      "text/plain": [
       "(259, 10)"
      ]
     },
     "execution_count": 34,
     "metadata": {},
     "output_type": "execute_result"
    }
   ],
   "source": [
    "df_top.shape"
   ]
  },
  {
   "cell_type": "code",
   "execution_count": 35,
   "metadata": {},
   "outputs": [
    {
     "data": {
      "text/plain": [
       "(13357, 23)"
      ]
     },
     "execution_count": 35,
     "metadata": {},
     "output_type": "execute_result"
    }
   ],
   "source": [
    "metadata.shape"
   ]
  },
  {
   "cell_type": "code",
   "execution_count": 36,
   "metadata": {},
   "outputs": [
    {
     "data": {
      "text/plain": [
       "Index(['case_id', 'bcoefficient', 'publication_year', 'total_citations',\n",
       "       'max_citations_in_a_year', 'max_citation_year', 'awakening_time_year',\n",
       "       'sleep_time_years', 'time_from_awakening_to_peak_years', 'top_cited',\n",
       "       'source_x', 'case_label', 'ecli', 'case_type', 'judge', 'advocate',\n",
       "       'country', 'country-chamber', 'chamber', 'main_subject', 'lodge_date',\n",
       "       'document_date', 'year_document', 'month_document', 'year_lodge',\n",
       "       'month_lodge', 'case_time', 'n_countries', 'joined_cases',\n",
       "       'ruling_title', 'ruling_name', 'ruling_type', 'ruling_content',\n",
       "       'source_y', 'subject'],\n",
       "      dtype='object')"
      ]
     },
     "execution_count": 36,
     "metadata": {},
     "output_type": "execute_result"
    }
   ],
   "source": [
    "df_top_metadata.columns"
   ]
  },
  {
   "cell_type": "code",
   "execution_count": 37,
   "metadata": {},
   "outputs": [
    {
     "data": {
      "text/plain": [
       "subject\n",
       "Accession                                         16\n",
       "Agreements and concentrations                      2\n",
       "Agreements, decisions and concerted practices      4\n",
       "Agreements; decisions and concerted practices     31\n",
       "Agriculture and Fisheries                        111\n",
       "                                                ... \n",
       "Value added tax                                    9\n",
       "Value for customs purposes                         1\n",
       "Veterinary legislation                             5\n",
       "Wine                                              10\n",
       "public procurement in the European Union           1\n",
       "Name: case_id, Length: 81, dtype: int64"
      ]
     },
     "execution_count": 37,
     "metadata": {},
     "output_type": "execute_result"
    }
   ],
   "source": [
    "df_top_metadata.groupby('subject').count()['case_id']"
   ]
  },
  {
   "cell_type": "code",
   "execution_count": 38,
   "metadata": {},
   "outputs": [],
   "source": [
    "df_top_metadata.to_csv('sleeping_cases.csv',index=False)"
   ]
  },
  {
   "cell_type": "code",
   "execution_count": null,
   "metadata": {},
   "outputs": [],
   "source": []
  }
 ],
 "metadata": {
  "kernelspec": {
   "display_name": "Python 3",
   "language": "python",
   "name": "python3"
  },
  "language_info": {
   "codemirror_mode": {
    "name": "ipython",
    "version": 3
   },
   "file_extension": ".py",
   "mimetype": "text/x-python",
   "name": "python",
   "nbconvert_exporter": "python",
   "pygments_lexer": "ipython3",
   "version": "3.7.6"
  }
 },
 "nbformat": 4,
 "nbformat_minor": 4
}
